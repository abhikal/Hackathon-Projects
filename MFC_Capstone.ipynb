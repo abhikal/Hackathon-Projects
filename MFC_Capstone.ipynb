{
  "nbformat": 4,
  "nbformat_minor": 0,
  "metadata": {
    "colab": {
      "name": "MFC_Capstone.ipynb",
      "version": "0.3.2",
      "provenance": [],
      "collapsed_sections": [],
      "include_colab_link": true
    },
    "kernelspec": {
      "name": "python3",
      "display_name": "Python 3"
    }
  },
  "cells": [
    {
      "cell_type": "markdown",
      "metadata": {
        "id": "view-in-github",
        "colab_type": "text"
      },
      "source": [
        "<a href=\"https://colab.research.google.com/github/tripidhoble/Hackathon-Projects/blob/master/MFC_Capstone.ipynb\" target=\"_parent\"><img src=\"https://colab.research.google.com/assets/colab-badge.svg\" alt=\"Open In Colab\"/></a>"
      ]
    },
    {
      "cell_type": "code",
      "metadata": {
        "id": "fQqqS__ljOuq",
        "colab_type": "code",
        "outputId": "fae76df6-ad1d-487d-90a5-3a7214cc553a",
        "colab": {
          "base_uri": "https://localhost:8080/",
          "height": 34
        }
      },
      "source": [
        "from google.colab import drive\n",
        "drive.mount('/content/drive')"
      ],
      "execution_count": 18,
      "outputs": [
        {
          "output_type": "stream",
          "text": [
            "Drive already mounted at /content/drive; to attempt to forcibly remount, call drive.mount(\"/content/drive\", force_remount=True).\n"
          ],
          "name": "stdout"
        }
      ]
    },
    {
      "cell_type": "code",
      "metadata": {
        "id": "34HWyzcGjqpV",
        "colab_type": "code",
        "colab": {}
      },
      "source": [
        "import numpy as np\n",
        "import pandas as pd\n",
        "import matplotlib.pyplot as plt\n",
        "import seaborn as sns\n",
        "%matplotlib inline\n",
        "import warnings\n",
        "warnings.filterwarnings('ignore')"
      ],
      "execution_count": 0,
      "outputs": []
    },
    {
      "cell_type": "code",
      "metadata": {
        "id": "POjDy7jbxQqv",
        "colab_type": "code",
        "colab": {}
      },
      "source": [
        "#import important libraries\n",
        "from google.colab import files\n",
        "import copy"
      ],
      "execution_count": 0,
      "outputs": []
    },
    {
      "cell_type": "code",
      "metadata": {
        "id": "VhtkA45ajcHz",
        "colab_type": "code",
        "colab": {}
      },
      "source": [
        "path = \"drive/My Drive/data/\"\n",
        "\n",
        "customer_df = pd.read_csv(path + 'customer.csv')\n",
        "invoice_df = pd.read_csv(path + 'invoice.csv')\n",
        "jtd_df = pd.read_csv(path + 'jtd.csv')\n",
        "plant_df = pd.read_csv(path + 'plant.csv')\n",
        "vehicles_df = pd.read_csv(path + 'vehicles.csv')"
      ],
      "execution_count": 0,
      "outputs": []
    },
    {
      "cell_type": "code",
      "metadata": {
        "id": "w2zIxRzAkpQb",
        "colab_type": "code",
        "colab": {}
      },
      "source": [
        "# 1. drop unwanted columns from all dataframes\n",
        "# 2. lowercase all the categorical columns\n",
        "\n",
        "def drop_col(dataset, col_to_drop):\n",
        "    dataset.drop(col_to_drop, axis=1, inplace=True)\n",
        "    return dataset\n",
        "\n",
        "def lowercase(dataset):\n",
        "    categorical_col = dataset.select_dtypes(exclude=['number']).columns\n",
        "    for col in categorical_col:\n",
        "        dataset[col] = dataset[col].map(lambda x: x if type(x)!=str else x.lower())\n",
        "    return dataset\n",
        "\n",
        "invoice_columns_to_drop = ['Unnamed: 0', 'Amt Rcvd From Custom', 'Amt Rcvd From Ins Co','Area / Locality',\n",
        "                           'CGST(14%)', 'CGST(2.5%)', 'CGST(6%)', 'CGST(9%)',\n",
        "                           'IGST(12%)', 'IGST(18%)', 'IGST(28%)', 'IGST(5%)', 'Insurance Company',\n",
        "                           'Outstanding Amt', 'SGST/UGST(14%)', 'SGST/UGST(2.5%)', 'SGST/UGST(6%)', 'SGST/UGST(9%)',\n",
        "                           'Service Advisor Name', 'TDS amount', 'Total CGST', 'Total GST', 'Total IGST',\n",
        "                           'Total SGST/UGST'\n",
        "                          ]\n",
        "customer_columns_to_drop = ['Unnamed: 0','Death date']\n",
        "plant_columns_to_drop = ['Unnamed: 0','Name 1','Factory calendar','Valuation Area', 'Customer no. - plant','PO Box','Postal Code','Name 2','Vendor number plant','House number and street']\n",
        "jtd_columns_to_drop = ['Unnamed: 0']\n",
        "vehicles_columns_to_drop = ['Unnamed: 0','Product GUID']\n",
        "\n",
        "dataframes = [invoice_df, customer_df, plant_df, jtd_df, vehicles_df]\n",
        "dataframe_columns_to_drop = [invoice_columns_to_drop, customer_columns_to_drop, plant_columns_to_drop, jtd_columns_to_drop, vehicles_columns_to_drop]\n",
        "\n",
        "for i in range(len(dataframes)):\n",
        "  dataframes[i] = drop_col(dataframes[i],dataframe_columns_to_drop[i])\n",
        "  dataframes[i] = lowercase(dataframes[i])"
      ],
      "execution_count": 0,
      "outputs": []
    },
    {
      "cell_type": "code",
      "metadata": {
        "id": "sVeGROVWuCIU",
        "colab_type": "code",
        "colab": {}
      },
      "source": [
        "# Preprocessing for dataset merge operation\n",
        "\n",
        "# 1. Remove leading zeros from 'Customer No.' column\n",
        "def remove_leading_zeros(dataset,cols):\n",
        "    for col in cols:\n",
        "      dataset[col] = dataset[col].astype(str).apply(lambda x: x.lstrip(\"0\"))\n",
        "    return dataset\n",
        "invoice_df  = remove_leading_zeros(invoice_df,['Customer No.'])\n",
        "customer_df = remove_leading_zeros(customer_df,['Customer No.'])\n",
        "\n",
        "\n",
        "# 2. Rename columns to use them as key column for merge operation\n",
        "def rename_columns(dataset, rename_cols_dict):\n",
        "    dataset.rename(columns=rename_cols_dict, inplace=True)\n",
        "    return dataset\n",
        "dict_invoice_df = {'District':'State'}\n",
        "dict_vehicles_df = {'Vehicle Model':'Make', 'License Plate Number':'Regn No'}\n",
        "\n",
        "invoice_df  = rename_columns(invoice_df, dict_invoice_df)\n",
        "vehicles_df = rename_columns(vehicles_df, dict_vehicles_df)\n",
        "\n",
        "\n",
        "# 3. Replace values in key columns for merge operation\n",
        "def replacement(dataset, col, dict_replacement, regex=False):\n",
        "    dataset[col] = dataset[col].replace(dict_replacement, regex=regex )\n",
        "    return dataset\n",
        "make_replacements = {\n",
        "                    'mahindra &  mahindra': 'mahindra',\n",
        "                    'tata motors': 'tata',\n",
        "                    'maruti suzuki': 'maruti',\n",
        "                    'mercedes benz': 'mercedes-benz',\n",
        "                    'porche': 'porsche',\n",
        "                    'land rover' : 'rover',\n",
        "                    'mitsubishi motors':'mitsubishi motor',\n",
        "                    'premier\\xa0automobiles': 'premierauto'\n",
        "                    }\n",
        "pattern_replacement = {'z_':''}\n",
        "vehicles_df = replacement(vehicles_df, 'Make', pattern_replacement, regex=True)\n",
        "vehicles_df = replacement(vehicles_df, 'Make', make_replacements)\n",
        "invoice_df  = replacement(invoice_df, 'Make', make_replacements)"
      ],
      "execution_count": 0,
      "outputs": []
    },
    {
      "cell_type": "code",
      "metadata": {
        "colab_type": "code",
        "id": "Bwnf_Q2LvmGg",
        "colab": {}
      },
      "source": [
        "# Merge dataframes based on key\n",
        "def merge_df(left_df, right_df, key):\n",
        "    merge_df = pd.merge(left=left_df, right=right_df, how='left', on=key)\n",
        "    return merge_df\n",
        "\n",
        "invoice_customer_df = merge_df(left_df=invoice_df, right_df=customer_df,key=['Customer No.'])\n",
        "invoice_customer_plant_df = merge_df(left_df=invoice_customer_df, right_df=plant_df,key=['Plant','State'])\n",
        "invoice_customer_plant_vehicles_df = merge_df(left_df=invoice_customer_plant_df, right_df=vehicles_df,key=['Regn No','Make'])\n",
        "\n",
        "master_df = invoice_customer_plant_vehicles_df"
      ],
      "execution_count": 0,
      "outputs": []
    },
    {
      "cell_type": "code",
      "metadata": {
        "id": "01UPBWu0KzgE",
        "colab_type": "code",
        "outputId": "a2d20fed-5083-4a44-e724-f493a3abb6e2",
        "colab": {
          "base_uri": "https://localhost:8080/",
          "height": 136
        }
      },
      "source": [
        "print(\"invoice_df shape: \",invoice_df.shape)\n",
        "print(\"customer_df shape: \",customer_df.shape)\n",
        "print(\"invoice_customer_df shape: \",invoice_customer_df.shape)\n",
        "print(\"plant_df shape: \",plant_df.shape)\n",
        "print(\"invoice_customer_plant_df shape: \",invoice_customer_plant_df.shape)\n",
        "print(\"vehicles_df shape: \",vehicles_df.shape)\n",
        "print(\"invoice_customer_plant_vehicles_df shape: \",invoice_customer_plant_vehicles_df.shape)"
      ],
      "execution_count": 25,
      "outputs": [
        {
          "output_type": "stream",
          "text": [
            "invoice_df shape:  (984741, 35)\n",
            "customer_df shape:  (555338, 8)\n",
            "invoice_customer_df shape:  (984741, 42)\n",
            "plant_df shape:  (438, 4)\n",
            "invoice_customer_plant_df shape:  (984741, 44)\n",
            "vehicles_df shape:  (588761, 3)\n",
            "invoice_customer_plant_vehicles_df shape:  (992903, 45)\n"
          ],
          "name": "stdout"
        }
      ]
    },
    {
      "cell_type": "code",
      "metadata": {
        "id": "2BDjlDr4BmMi",
        "colab_type": "code",
        "colab": {}
      },
      "source": [
        "# fill missing values of 'CITY' column \n",
        "master_df['CITY'].fillna(master_df['City'], inplace = True)\n",
        "\n",
        "#remove dulicate column 'City'\n",
        "master_df = drop_col(dataset=master_df, col_to_drop=['City'])"
      ],
      "execution_count": 0,
      "outputs": []
    },
    {
      "cell_type": "code",
      "metadata": {
        "id": "3ebfqCjDyxUT",
        "colab_type": "code",
        "outputId": "dac7c24f-1c06-4c65-e328-b142c56da932",
        "colab": {
          "base_uri": "https://localhost:8080/",
          "height": 527
        }
      },
      "source": [
        "# Function to identify the number of missing values in every feature\n",
        "def missing_datas(dataset):\n",
        "    total = dataset.isnull().sum().sort_values(ascending=False)\n",
        "    percent = ((dataset.isnull().sum())*100/dataset.isnull().count()).sort_values(ascending=False)\n",
        "    missing_data = pd.concat([total, percent], axis=1, keys=['Total', 'Percent'])\n",
        "    return missing_data\n",
        "    \n",
        "missing_data_master_df = missing_datas(master_df)\n",
        "print(\"missing data for 'master_df': \")\n",
        "print(missing_data_master_df[missing_data_master_df['Percent']>0.00])\n",
        "\n",
        "missing_data_jtd_df = missing_datas(jtd_df)\n",
        "print(\"missing data for 'jtd_df': \")\n",
        "print(missing_data_jtd_df[missing_data_jtd_df['Percent']>0.00])"
      ],
      "execution_count": 26,
      "outputs": [
        {
          "output_type": "stream",
          "text": [
            "missing data for 'master_df': \n",
            "                      Total    Percent\n",
            "Claim No.            988053  99.511533\n",
            "Occupation           965665  97.256731\n",
            "Cash /Cashless Type  965197  97.209597\n",
            "Date of Birth        962418  96.929710\n",
            "Marital Status       958174  96.502277\n",
            "Gate Pass Date       946518  95.328345\n",
            "Policy no.           924141  93.074651\n",
            "Expiry Date          894807  90.120284\n",
            "Technician Name      734250  73.949822\n",
            "Total Value          690834  69.577189\n",
            "ODN No.              690834  69.577189\n",
            "Sales organization   279168  28.116342\n",
            "City                 271772  27.371455\n",
            "Title                152663  15.375419\n",
            "Fuel Type             21738   2.189338\n",
            "Data Origin            7627   0.768152\n",
            "Partner Type           5489   0.552823\n",
            "Business Partner       3510   0.353509\n",
            "Regn No                3315   0.333869\n",
            "Model                  1736   0.174841\n",
            "Cust Type                 4   0.000403\n",
            "CITY                      4   0.000403\n",
            "missing data for 'jtd_df': \n",
            "                       Total    Percent\n",
            "Labor Value Number   3774033  67.159778\n",
            "Target quantity UoM    51629   0.918750\n",
            "Description            51629   0.918750\n",
            "Material               51629   0.918750\n"
          ],
          "name": "stdout"
        }
      ]
    },
    {
      "cell_type": "code",
      "metadata": {
        "id": "-3XDnJTC0zmt",
        "colab_type": "code",
        "colab": {
          "base_uri": "https://localhost:8080/",
          "height": 377
        },
        "outputId": "24237501-7d27-467d-88ea-6c67e2da427a"
      },
      "source": [
        "# Function to drop missing values\n",
        "def drop_missing(dataset, missing, min_threshold, max_threshold):\n",
        "    dataset = dataset.drop((missing[missing['Percent'] > max_threshold]).index,axis= 1)\n",
        "    dataset = dataset.dropna(axis=0, subset=(missing[missing['Percent'] < min_threshold]).index)\n",
        "    return dataset \n",
        "\n",
        "master_df  = drop_missing(master_df,missing_data_master_df,2,40)\n",
        "jtd_df     = drop_missing(jtd_df,missing_data_jtd_df,2,40)"
      ],
      "execution_count": 29,
      "outputs": [
        {
          "output_type": "error",
          "ename": "KeyError",
          "evalue": "ignored",
          "traceback": [
            "\u001b[0;31m---------------------------------------------------------------------------\u001b[0m",
            "\u001b[0;31mKeyError\u001b[0m                                  Traceback (most recent call last)",
            "\u001b[0;32m<ipython-input-29-6595f519a1bd>\u001b[0m in \u001b[0;36m<module>\u001b[0;34m()\u001b[0m\n\u001b[1;32m      4\u001b[0m     \u001b[0;32mreturn\u001b[0m \u001b[0mdataset\u001b[0m\u001b[0;34m\u001b[0m\u001b[0;34m\u001b[0m\u001b[0m\n\u001b[1;32m      5\u001b[0m \u001b[0;34m\u001b[0m\u001b[0m\n\u001b[0;32m----> 6\u001b[0;31m \u001b[0mmaster_df\u001b[0m  \u001b[0;34m=\u001b[0m \u001b[0mdrop_missing\u001b[0m\u001b[0;34m(\u001b[0m\u001b[0mmaster_df\u001b[0m\u001b[0;34m,\u001b[0m\u001b[0mmissing_data_master_df\u001b[0m\u001b[0;34m,\u001b[0m\u001b[0;36m2\u001b[0m\u001b[0;34m,\u001b[0m\u001b[0;36m40\u001b[0m\u001b[0;34m)\u001b[0m\u001b[0;34m\u001b[0m\u001b[0;34m\u001b[0m\u001b[0m\n\u001b[0m\u001b[1;32m      7\u001b[0m \u001b[0mjtd_df\u001b[0m     \u001b[0;34m=\u001b[0m \u001b[0mdrop_missing\u001b[0m\u001b[0;34m(\u001b[0m\u001b[0mjtd_df\u001b[0m\u001b[0;34m,\u001b[0m\u001b[0mmissing_data_jtd_df\u001b[0m\u001b[0;34m,\u001b[0m\u001b[0;36m2\u001b[0m\u001b[0;34m,\u001b[0m\u001b[0;36m40\u001b[0m\u001b[0;34m)\u001b[0m\u001b[0;34m\u001b[0m\u001b[0;34m\u001b[0m\u001b[0m\n",
            "\u001b[0;32m<ipython-input-29-6595f519a1bd>\u001b[0m in \u001b[0;36mdrop_missing\u001b[0;34m(dataset, missing, min_threshold, max_threshold)\u001b[0m\n\u001b[1;32m      1\u001b[0m \u001b[0;32mdef\u001b[0m \u001b[0mdrop_missing\u001b[0m\u001b[0;34m(\u001b[0m\u001b[0mdataset\u001b[0m\u001b[0;34m,\u001b[0m \u001b[0mmissing\u001b[0m\u001b[0;34m,\u001b[0m \u001b[0mmin_threshold\u001b[0m\u001b[0;34m,\u001b[0m \u001b[0mmax_threshold\u001b[0m\u001b[0;34m)\u001b[0m\u001b[0;34m:\u001b[0m\u001b[0;34m\u001b[0m\u001b[0;34m\u001b[0m\u001b[0m\n\u001b[0;32m----> 2\u001b[0;31m     \u001b[0mdataset\u001b[0m \u001b[0;34m=\u001b[0m \u001b[0mdataset\u001b[0m\u001b[0;34m.\u001b[0m\u001b[0mdrop\u001b[0m\u001b[0;34m(\u001b[0m\u001b[0;34m(\u001b[0m\u001b[0mmissing\u001b[0m\u001b[0;34m[\u001b[0m\u001b[0mmissing\u001b[0m\u001b[0;34m[\u001b[0m\u001b[0;34m'Percent'\u001b[0m\u001b[0;34m]\u001b[0m \u001b[0;34m>\u001b[0m \u001b[0mmax_threshold\u001b[0m\u001b[0;34m]\u001b[0m\u001b[0;34m)\u001b[0m\u001b[0;34m.\u001b[0m\u001b[0mindex\u001b[0m\u001b[0;34m,\u001b[0m\u001b[0maxis\u001b[0m\u001b[0;34m=\u001b[0m \u001b[0;36m1\u001b[0m\u001b[0;34m)\u001b[0m\u001b[0;34m\u001b[0m\u001b[0;34m\u001b[0m\u001b[0m\n\u001b[0m\u001b[1;32m      3\u001b[0m     \u001b[0mdataset\u001b[0m \u001b[0;34m=\u001b[0m \u001b[0mdataset\u001b[0m\u001b[0;34m.\u001b[0m\u001b[0mdropna\u001b[0m\u001b[0;34m(\u001b[0m\u001b[0maxis\u001b[0m\u001b[0;34m=\u001b[0m\u001b[0;36m0\u001b[0m\u001b[0;34m,\u001b[0m \u001b[0msubset\u001b[0m\u001b[0;34m=\u001b[0m\u001b[0;34m(\u001b[0m\u001b[0mmissing\u001b[0m\u001b[0;34m[\u001b[0m\u001b[0mmissing\u001b[0m\u001b[0;34m[\u001b[0m\u001b[0;34m'Percent'\u001b[0m\u001b[0;34m]\u001b[0m \u001b[0;34m<\u001b[0m \u001b[0mmin_threshold\u001b[0m\u001b[0;34m]\u001b[0m\u001b[0;34m)\u001b[0m\u001b[0;34m.\u001b[0m\u001b[0mindex\u001b[0m\u001b[0;34m)\u001b[0m\u001b[0;34m\u001b[0m\u001b[0;34m\u001b[0m\u001b[0m\n\u001b[1;32m      4\u001b[0m     \u001b[0;32mreturn\u001b[0m \u001b[0mdataset\u001b[0m\u001b[0;34m\u001b[0m\u001b[0;34m\u001b[0m\u001b[0m\n\u001b[1;32m      5\u001b[0m \u001b[0;34m\u001b[0m\u001b[0m\n",
            "\u001b[0;32m/usr/local/lib/python3.6/dist-packages/pandas/core/frame.py\u001b[0m in \u001b[0;36mdrop\u001b[0;34m(self, labels, axis, index, columns, level, inplace, errors)\u001b[0m\n\u001b[1;32m   3938\u001b[0m                                            \u001b[0mindex\u001b[0m\u001b[0;34m=\u001b[0m\u001b[0mindex\u001b[0m\u001b[0;34m,\u001b[0m \u001b[0mcolumns\u001b[0m\u001b[0;34m=\u001b[0m\u001b[0mcolumns\u001b[0m\u001b[0;34m,\u001b[0m\u001b[0;34m\u001b[0m\u001b[0;34m\u001b[0m\u001b[0m\n\u001b[1;32m   3939\u001b[0m                                            \u001b[0mlevel\u001b[0m\u001b[0;34m=\u001b[0m\u001b[0mlevel\u001b[0m\u001b[0;34m,\u001b[0m \u001b[0minplace\u001b[0m\u001b[0;34m=\u001b[0m\u001b[0minplace\u001b[0m\u001b[0;34m,\u001b[0m\u001b[0;34m\u001b[0m\u001b[0;34m\u001b[0m\u001b[0m\n\u001b[0;32m-> 3940\u001b[0;31m                                            errors=errors)\n\u001b[0m\u001b[1;32m   3941\u001b[0m \u001b[0;34m\u001b[0m\u001b[0m\n\u001b[1;32m   3942\u001b[0m     @rewrite_axis_style_signature('mapper', [('copy', True),\n",
            "\u001b[0;32m/usr/local/lib/python3.6/dist-packages/pandas/core/generic.py\u001b[0m in \u001b[0;36mdrop\u001b[0;34m(self, labels, axis, index, columns, level, inplace, errors)\u001b[0m\n\u001b[1;32m   3778\u001b[0m         \u001b[0;32mfor\u001b[0m \u001b[0maxis\u001b[0m\u001b[0;34m,\u001b[0m \u001b[0mlabels\u001b[0m \u001b[0;32min\u001b[0m \u001b[0maxes\u001b[0m\u001b[0;34m.\u001b[0m\u001b[0mitems\u001b[0m\u001b[0;34m(\u001b[0m\u001b[0;34m)\u001b[0m\u001b[0;34m:\u001b[0m\u001b[0;34m\u001b[0m\u001b[0;34m\u001b[0m\u001b[0m\n\u001b[1;32m   3779\u001b[0m             \u001b[0;32mif\u001b[0m \u001b[0mlabels\u001b[0m \u001b[0;32mis\u001b[0m \u001b[0;32mnot\u001b[0m \u001b[0;32mNone\u001b[0m\u001b[0;34m:\u001b[0m\u001b[0;34m\u001b[0m\u001b[0;34m\u001b[0m\u001b[0m\n\u001b[0;32m-> 3780\u001b[0;31m                 \u001b[0mobj\u001b[0m \u001b[0;34m=\u001b[0m \u001b[0mobj\u001b[0m\u001b[0;34m.\u001b[0m\u001b[0m_drop_axis\u001b[0m\u001b[0;34m(\u001b[0m\u001b[0mlabels\u001b[0m\u001b[0;34m,\u001b[0m \u001b[0maxis\u001b[0m\u001b[0;34m,\u001b[0m \u001b[0mlevel\u001b[0m\u001b[0;34m=\u001b[0m\u001b[0mlevel\u001b[0m\u001b[0;34m,\u001b[0m \u001b[0merrors\u001b[0m\u001b[0;34m=\u001b[0m\u001b[0merrors\u001b[0m\u001b[0;34m)\u001b[0m\u001b[0;34m\u001b[0m\u001b[0;34m\u001b[0m\u001b[0m\n\u001b[0m\u001b[1;32m   3781\u001b[0m \u001b[0;34m\u001b[0m\u001b[0m\n\u001b[1;32m   3782\u001b[0m         \u001b[0;32mif\u001b[0m \u001b[0minplace\u001b[0m\u001b[0;34m:\u001b[0m\u001b[0;34m\u001b[0m\u001b[0;34m\u001b[0m\u001b[0m\n",
            "\u001b[0;32m/usr/local/lib/python3.6/dist-packages/pandas/core/generic.py\u001b[0m in \u001b[0;36m_drop_axis\u001b[0;34m(self, labels, axis, level, errors)\u001b[0m\n\u001b[1;32m   3810\u001b[0m                 \u001b[0mnew_axis\u001b[0m \u001b[0;34m=\u001b[0m \u001b[0maxis\u001b[0m\u001b[0;34m.\u001b[0m\u001b[0mdrop\u001b[0m\u001b[0;34m(\u001b[0m\u001b[0mlabels\u001b[0m\u001b[0;34m,\u001b[0m \u001b[0mlevel\u001b[0m\u001b[0;34m=\u001b[0m\u001b[0mlevel\u001b[0m\u001b[0;34m,\u001b[0m \u001b[0merrors\u001b[0m\u001b[0;34m=\u001b[0m\u001b[0merrors\u001b[0m\u001b[0;34m)\u001b[0m\u001b[0;34m\u001b[0m\u001b[0;34m\u001b[0m\u001b[0m\n\u001b[1;32m   3811\u001b[0m             \u001b[0;32melse\u001b[0m\u001b[0;34m:\u001b[0m\u001b[0;34m\u001b[0m\u001b[0;34m\u001b[0m\u001b[0m\n\u001b[0;32m-> 3812\u001b[0;31m                 \u001b[0mnew_axis\u001b[0m \u001b[0;34m=\u001b[0m \u001b[0maxis\u001b[0m\u001b[0;34m.\u001b[0m\u001b[0mdrop\u001b[0m\u001b[0;34m(\u001b[0m\u001b[0mlabels\u001b[0m\u001b[0;34m,\u001b[0m \u001b[0merrors\u001b[0m\u001b[0;34m=\u001b[0m\u001b[0merrors\u001b[0m\u001b[0;34m)\u001b[0m\u001b[0;34m\u001b[0m\u001b[0;34m\u001b[0m\u001b[0m\n\u001b[0m\u001b[1;32m   3813\u001b[0m             \u001b[0mresult\u001b[0m \u001b[0;34m=\u001b[0m \u001b[0mself\u001b[0m\u001b[0;34m.\u001b[0m\u001b[0mreindex\u001b[0m\u001b[0;34m(\u001b[0m\u001b[0;34m**\u001b[0m\u001b[0;34m{\u001b[0m\u001b[0maxis_name\u001b[0m\u001b[0;34m:\u001b[0m \u001b[0mnew_axis\u001b[0m\u001b[0;34m}\u001b[0m\u001b[0;34m)\u001b[0m\u001b[0;34m\u001b[0m\u001b[0;34m\u001b[0m\u001b[0m\n\u001b[1;32m   3814\u001b[0m \u001b[0;34m\u001b[0m\u001b[0m\n",
            "\u001b[0;32m/usr/local/lib/python3.6/dist-packages/pandas/core/indexes/base.py\u001b[0m in \u001b[0;36mdrop\u001b[0;34m(self, labels, errors)\u001b[0m\n\u001b[1;32m   4963\u001b[0m             \u001b[0;32mif\u001b[0m \u001b[0merrors\u001b[0m \u001b[0;34m!=\u001b[0m \u001b[0;34m'ignore'\u001b[0m\u001b[0;34m:\u001b[0m\u001b[0;34m\u001b[0m\u001b[0;34m\u001b[0m\u001b[0m\n\u001b[1;32m   4964\u001b[0m                 raise KeyError(\n\u001b[0;32m-> 4965\u001b[0;31m                     '{} not found in axis'.format(labels[mask]))\n\u001b[0m\u001b[1;32m   4966\u001b[0m             \u001b[0mindexer\u001b[0m \u001b[0;34m=\u001b[0m \u001b[0mindexer\u001b[0m\u001b[0;34m[\u001b[0m\u001b[0;34m~\u001b[0m\u001b[0mmask\u001b[0m\u001b[0;34m]\u001b[0m\u001b[0;34m\u001b[0m\u001b[0;34m\u001b[0m\u001b[0m\n\u001b[1;32m   4967\u001b[0m         \u001b[0;32mreturn\u001b[0m \u001b[0mself\u001b[0m\u001b[0;34m.\u001b[0m\u001b[0mdelete\u001b[0m\u001b[0;34m(\u001b[0m\u001b[0mindexer\u001b[0m\u001b[0;34m)\u001b[0m\u001b[0;34m\u001b[0m\u001b[0;34m\u001b[0m\u001b[0m\n",
            "\u001b[0;31mKeyError\u001b[0m: \"['Claim No.' 'Occupation' 'Cash /Cashless Type' 'Date of Birth'\\n 'Marital Status' 'Gate Pass Date' 'Policy no.' 'Expiry Date'\\n 'Technician Name' 'Total Value' 'ODN No.'] not found in axis\""
          ]
        }
      ]
    },
    {
      "cell_type": "code",
      "metadata": {
        "id": "kPjHYn-Qb1X1",
        "colab_type": "code",
        "outputId": "30451b5e-983b-45ed-9359-3020540c31c2",
        "colab": {
          "base_uri": "https://localhost:8080/",
          "height": 170
        }
      },
      "source": [
        "#recheck the missing values\n",
        "new_missing_data = missing_datas(master_df)\n",
        "print(\"missing data for 'master_df'\")\n",
        "print(new_missing_data[new_missing_data['Percent']>0.00])\n",
        "\n",
        "new_missing_data = missing_datas(jtd_df)\n",
        "print(\"missing data for 'jtd_df'\")\n",
        "print(new_missing_data[new_missing_data['Percent']>0.00])"
      ],
      "execution_count": 32,
      "outputs": [
        {
          "output_type": "stream",
          "text": [
            "missing data for 'master_df'\n",
            "                     Total    Percent\n",
            "Sales organization  271769  27.722026\n",
            "Title               144020  14.690881\n",
            "Fuel Type            18288   1.865483\n",
            "missing data for 'jtd_df'\n",
            "Empty DataFrame\n",
            "Columns: [Total, Percent]\n",
            "Index: []\n"
          ],
          "name": "stdout"
        }
      ]
    },
    {
      "cell_type": "code",
      "metadata": {
        "id": "dWLLSDnKNpiS",
        "colab_type": "code",
        "colab": {}
      },
      "source": [
        "#fill missing values with mode\n",
        "def Fill_Missing_Values(dataset, cols):\n",
        "    for col in cols:\n",
        "      dataset[col].fillna(dataset[col].dropna().mode()[0], inplace = True)\n",
        "    return dataset\n",
        "  \n",
        "\n",
        "master_df = Fill_Missing_Values(dataset=master_df,cols=['Sales organization','Title','Fuel Type'])"
      ],
      "execution_count": 0,
      "outputs": []
    },
    {
      "cell_type": "code",
      "metadata": {
        "id": "Irj6rlFfjsto",
        "colab_type": "code",
        "outputId": "ef89b5f5-1b90-40cf-ab6d-0a346ae6d2fa",
        "colab": {
          "base_uri": "https://localhost:8080/",
          "height": 306
        }
      },
      "source": [
        "# Function to identify numeric features\n",
        "def numeric_features(dataset):\n",
        "    numeric_col = dataset.select_dtypes(include=['number']).columns\n",
        "    return numeric_col\n",
        "\n",
        "numeric_columns_master_df = numeric_features(master_df)\n",
        "print(\"Numeric Features for master_df:\")\n",
        "print(numeric_columns_master_df)\n",
        "\n",
        "numeric_columns_jtd_df = numeric_features(jtd_df)\n",
        "print(\"Numeric Features for jtd_df:\")\n",
        "print(numeric_columns_jtd_df)\n",
        "\n",
        "print(\"====\"*30)\n",
        "\n",
        "# Function to identify categorical features\n",
        "def categorical_features(dataset):\n",
        "    categorical_col = dataset.select_dtypes(exclude=['number']).columns\n",
        "    return categorical_col\n",
        "\n",
        "categorical_columns_master_df = categorical_features(master_df)\n",
        "print(\"Categorical Features for master_df:\")\n",
        "print(categorical_columns_master_df)\n",
        "\n",
        "categorical_columns_jtd_df = categorical_features(jtd_df)\n",
        "print(\"categorical Features for jtd_df:\")\n",
        "print(categorical_columns_jtd_df)"
      ],
      "execution_count": 35,
      "outputs": [
        {
          "output_type": "stream",
          "text": [
            "Numeric Features for master_df:\n",
            "Index(['Invoice No', 'Job Card No', 'KMs Reading', 'Labour Total',\n",
            "       'Misc Total', 'OSL Total', 'Parts Total', 'Pin code', 'Recovrbl Exp',\n",
            "       'Total Amt Wtd Tax.', 'Partner Type', 'Title'],\n",
            "      dtype='object')\n",
            "Numeric Features for jtd_df:\n",
            "Index(['DBM Order', 'Order Item', 'Order Quantity', 'Net value'], dtype='object')\n",
            "========================================================================================================================\n",
            "Categorical Features for master_df:\n",
            "Index(['CITY', 'Cust Type', 'Customer No.', 'State', 'Gate Pass Time',\n",
            "       'Invoice Date', 'Invoice Time', 'JobCard Date', 'JobCard Time', 'Make',\n",
            "       'Model', 'Order Type', 'Plant', 'Plant Name1', 'Print Status',\n",
            "       'Regn No', 'User ID', 'Business Partner', 'Data Origin',\n",
            "       'Sales organization', 'Fuel Type'],\n",
            "      dtype='object')\n",
            "categorical Features for jtd_df:\n",
            "Index(['Material', 'Description', 'Item Category', 'Target quantity UoM'], dtype='object')\n"
          ],
          "name": "stdout"
        }
      ]
    },
    {
      "cell_type": "code",
      "metadata": {
        "id": "PqzSDGdOoxx0",
        "colab_type": "code",
        "colab": {}
      },
      "source": [
        "def to_datetime(dataset, datetime_cols):\n",
        "  for datetime in datetime_cols:\n",
        "    dataset[datetime[0] + '-' + datetime[1]] = pd.to_datetime(dataset[datetime[0]]+ ' ' + dataset[datetime[1]])\n",
        "  return dataset\n",
        "\n",
        "master_df = to_datetime(master_df, [['Invoice Date','Invoice Time'],['JobCard Date','JobCard Time']])\n",
        "\n",
        "def job_completion_time(dataset, start_datetime, end_datetime):\n",
        "    dataset['Job_completion_time(in days)'] = (dataset[start_datetime] - dataset[end_datetime]) / np.timedelta64(1,'D')\n",
        "    return dataset\n",
        "    \n",
        "master_df = job_completion_time(master_df, 'Invoice Date-Invoice Time', 'JobCard Date-JobCard Time')"
      ],
      "execution_count": 0,
      "outputs": []
    },
    {
      "cell_type": "code",
      "metadata": {
        "id": "xUhyAM7vGK7o",
        "colab_type": "code",
        "outputId": "9a8bc72e-8e57-46df-93af-3c71ac158bd1",
        "colab": {
          "base_uri": "https://localhost:8080/",
          "height": 315
        }
      },
      "source": [
        "master_df.sample(3)"
      ],
      "execution_count": 37,
      "outputs": [
        {
          "output_type": "execute_result",
          "data": {
            "text/html": [
              "<div>\n",
              "<style scoped>\n",
              "    .dataframe tbody tr th:only-of-type {\n",
              "        vertical-align: middle;\n",
              "    }\n",
              "\n",
              "    .dataframe tbody tr th {\n",
              "        vertical-align: top;\n",
              "    }\n",
              "\n",
              "    .dataframe thead th {\n",
              "        text-align: right;\n",
              "    }\n",
              "</style>\n",
              "<table border=\"1\" class=\"dataframe\">\n",
              "  <thead>\n",
              "    <tr style=\"text-align: right;\">\n",
              "      <th></th>\n",
              "      <th>CITY</th>\n",
              "      <th>Cust Type</th>\n",
              "      <th>Customer No.</th>\n",
              "      <th>State</th>\n",
              "      <th>Gate Pass Time</th>\n",
              "      <th>Invoice Date</th>\n",
              "      <th>Invoice No</th>\n",
              "      <th>Invoice Time</th>\n",
              "      <th>Job Card No</th>\n",
              "      <th>JobCard Date</th>\n",
              "      <th>JobCard Time</th>\n",
              "      <th>KMs Reading</th>\n",
              "      <th>Labour Total</th>\n",
              "      <th>Make</th>\n",
              "      <th>Misc Total</th>\n",
              "      <th>Model</th>\n",
              "      <th>OSL Total</th>\n",
              "      <th>Order Type</th>\n",
              "      <th>Parts Total</th>\n",
              "      <th>Pin code</th>\n",
              "      <th>Plant</th>\n",
              "      <th>Plant Name1</th>\n",
              "      <th>Print Status</th>\n",
              "      <th>Recovrbl Exp</th>\n",
              "      <th>Regn No</th>\n",
              "      <th>Total Amt Wtd Tax.</th>\n",
              "      <th>User ID</th>\n",
              "      <th>Business Partner</th>\n",
              "      <th>Partner Type</th>\n",
              "      <th>Data Origin</th>\n",
              "      <th>Title</th>\n",
              "      <th>Sales organization</th>\n",
              "      <th>Fuel Type</th>\n",
              "      <th>Invoice Date-Invoice Time</th>\n",
              "      <th>JobCard Date-JobCard Time</th>\n",
              "      <th>Job_completion_time(in days)</th>\n",
              "    </tr>\n",
              "  </thead>\n",
              "  <tbody>\n",
              "    <tr>\n",
              "      <th>708991</th>\n",
              "      <td>mayiladuthurai</td>\n",
              "      <td>retail</td>\n",
              "      <td>453022</td>\n",
              "      <td>tamil nadu</td>\n",
              "      <td>00:00:00</td>\n",
              "      <td>2017-09-07</td>\n",
              "      <td>7284400213</td>\n",
              "      <td>14:35:05</td>\n",
              "      <td>858550</td>\n",
              "      <td>2017-08-31</td>\n",
              "      <td>16:37:51</td>\n",
              "      <td>75373</td>\n",
              "      <td>1293.05</td>\n",
              "      <td>nissan</td>\n",
              "      <td>0.0</td>\n",
              "      <td>micra</td>\n",
              "      <td>6510.26</td>\n",
              "      <td>paid service</td>\n",
              "      <td>2850.49</td>\n",
              "      <td>609001</td>\n",
              "      <td>x672</td>\n",
              "      <td>x672 - sri santhi vijay motors</td>\n",
              "      <td>no</td>\n",
              "      <td>0.0</td>\n",
              "      <td>tn05af9456</td>\n",
              "      <td>10653.80</td>\n",
              "      <td>x672sa1</td>\n",
              "      <td>464903</td>\n",
              "      <td>1.0</td>\n",
              "      <td>z001</td>\n",
              "      <td>2.0</td>\n",
              "      <td>mfcd</td>\n",
              "      <td>2</td>\n",
              "      <td>2017-09-07 14:35:05</td>\n",
              "      <td>2017-08-31 16:37:51</td>\n",
              "      <td>6.914745</td>\n",
              "    </tr>\n",
              "    <tr>\n",
              "      <th>943504</th>\n",
              "      <td>pune</td>\n",
              "      <td>retail</td>\n",
              "      <td>3448</td>\n",
              "      <td>maharashtra</td>\n",
              "      <td>00:00:00</td>\n",
              "      <td>2013-03-31</td>\n",
              "      <td>7000027312</td>\n",
              "      <td>14:04:26</td>\n",
              "      <td>25939</td>\n",
              "      <td>2013-03-18</td>\n",
              "      <td>17:08:25</td>\n",
              "      <td>177096</td>\n",
              "      <td>6499.01</td>\n",
              "      <td>mahindra</td>\n",
              "      <td>580.0</td>\n",
              "      <td>scorpio crde</td>\n",
              "      <td>400.00</td>\n",
              "      <td>paid service</td>\n",
              "      <td>37778.92</td>\n",
              "      <td>411056</td>\n",
              "      <td>bc02</td>\n",
              "      <td>pune</td>\n",
              "      <td>no</td>\n",
              "      <td>0.0</td>\n",
              "      <td>mh12em5050</td>\n",
              "      <td>45257.93</td>\n",
              "      <td>bc02sa1</td>\n",
              "      <td>3796</td>\n",
              "      <td>1.0</td>\n",
              "      <td>z005</td>\n",
              "      <td>2.0</td>\n",
              "      <td>mfcd</td>\n",
              "      <td>2</td>\n",
              "      <td>2013-03-31 14:04:26</td>\n",
              "      <td>2013-03-18 17:08:25</td>\n",
              "      <td>12.872234</td>\n",
              "    </tr>\n",
              "    <tr>\n",
              "      <th>470670</th>\n",
              "      <td>pinjore</td>\n",
              "      <td>retail</td>\n",
              "      <td>206896</td>\n",
              "      <td>haryana</td>\n",
              "      <td>00:00:00</td>\n",
              "      <td>2017-03-06</td>\n",
              "      <td>7175802001</td>\n",
              "      <td>11:05:20</td>\n",
              "      <td>627817</td>\n",
              "      <td>2017-03-05</td>\n",
              "      <td>11:30:41</td>\n",
              "      <td>92000</td>\n",
              "      <td>793.95</td>\n",
              "      <td>hyundai</td>\n",
              "      <td>0.0</td>\n",
              "      <td>verna</td>\n",
              "      <td>0.00</td>\n",
              "      <td>running repairs</td>\n",
              "      <td>1937.62</td>\n",
              "      <td>134102</td>\n",
              "      <td>x129</td>\n",
              "      <td>x129 - a.v. automobiles</td>\n",
              "      <td>no</td>\n",
              "      <td>0.0</td>\n",
              "      <td>hr51aa0015</td>\n",
              "      <td>2731.57</td>\n",
              "      <td>x129wm1</td>\n",
              "      <td>217476</td>\n",
              "      <td>1.0</td>\n",
              "      <td>z005</td>\n",
              "      <td>2.0</td>\n",
              "      <td>mfcd</td>\n",
              "      <td>2</td>\n",
              "      <td>2017-03-06 11:05:20</td>\n",
              "      <td>2017-03-05 11:30:41</td>\n",
              "      <td>0.982396</td>\n",
              "    </tr>\n",
              "  </tbody>\n",
              "</table>\n",
              "</div>"
            ],
            "text/plain": [
              "                  CITY  ... Job_completion_time(in days)\n",
              "708991  mayiladuthurai  ...                     6.914745\n",
              "943504            pune  ...                    12.872234\n",
              "470670         pinjore  ...                     0.982396\n",
              "\n",
              "[3 rows x 36 columns]"
            ]
          },
          "metadata": {
            "tags": []
          },
          "execution_count": 37
        }
      ]
    },
    {
      "cell_type": "code",
      "metadata": {
        "id": "X8dlXs5-Ttvg",
        "colab_type": "code",
        "colab": {}
      },
      "source": [
        ""
      ],
      "execution_count": 0,
      "outputs": []
    },
    {
      "cell_type": "code",
      "metadata": {
        "id": "SRips5hK5Ndf",
        "colab_type": "code",
        "colab": {}
      },
      "source": [
        ""
      ],
      "execution_count": 0,
      "outputs": []
    },
    {
      "cell_type": "code",
      "metadata": {
        "colab_type": "code",
        "id": "dQ9Zxr2s5REQ",
        "colab": {}
      },
      "source": [
        ""
      ],
      "execution_count": 0,
      "outputs": []
    },
    {
      "cell_type": "code",
      "metadata": {
        "id": "OHQrXRiBTtxR",
        "colab_type": "code",
        "colab": {}
      },
      "source": [
        ""
      ],
      "execution_count": 0,
      "outputs": []
    },
    {
      "cell_type": "code",
      "metadata": {
        "id": "MJeOqAg6Sd1F",
        "colab_type": "code",
        "colab": {}
      },
      "source": [
        ""
      ],
      "execution_count": 0,
      "outputs": []
    },
    {
      "cell_type": "code",
      "metadata": {
        "id": "PynyjlJES1JQ",
        "colab_type": "code",
        "colab": {}
      },
      "source": [
        ""
      ],
      "execution_count": 0,
      "outputs": []
    },
    {
      "cell_type": "code",
      "metadata": {
        "id": "LXjZ2G9DhVuJ",
        "colab_type": "code",
        "colab": {}
      },
      "source": [
        ""
      ],
      "execution_count": 0,
      "outputs": []
    },
    {
      "cell_type": "code",
      "metadata": {
        "id": "RZkjMRSAoA9Z",
        "colab_type": "code",
        "colab": {}
      },
      "source": [
        ""
      ],
      "execution_count": 0,
      "outputs": []
    },
    {
      "cell_type": "code",
      "metadata": {
        "id": "ZcCprj0cI78H",
        "colab_type": "code",
        "colab": {}
      },
      "source": [
        ""
      ],
      "execution_count": 0,
      "outputs": []
    },
    {
      "cell_type": "code",
      "metadata": {
        "id": "LXos23zOJF61",
        "colab_type": "code",
        "colab": {}
      },
      "source": [
        ""
      ],
      "execution_count": 0,
      "outputs": []
    },
    {
      "cell_type": "code",
      "metadata": {
        "id": "ZnVX2vmTJiUD",
        "colab_type": "code",
        "colab": {}
      },
      "source": [
        ""
      ],
      "execution_count": 0,
      "outputs": []
    },
    {
      "cell_type": "code",
      "metadata": {
        "colab_type": "code",
        "id": "tp7oA8HcJlaP",
        "colab": {}
      },
      "source": [
        ""
      ],
      "execution_count": 0,
      "outputs": []
    },
    {
      "cell_type": "code",
      "metadata": {
        "colab_type": "code",
        "id": "EGhDRBFKJi5H",
        "colab": {}
      },
      "source": [
        ""
      ],
      "execution_count": 0,
      "outputs": []
    },
    {
      "cell_type": "code",
      "metadata": {
        "id": "5ZynL7uiABce",
        "colab_type": "code",
        "colab": {}
      },
      "source": [
        ""
      ],
      "execution_count": 0,
      "outputs": []
    },
    {
      "cell_type": "code",
      "metadata": {
        "id": "wu2wukn0-WsG",
        "colab_type": "code",
        "colab": {}
      },
      "source": [
        " "
      ],
      "execution_count": 0,
      "outputs": []
    },
    {
      "cell_type": "code",
      "metadata": {
        "id": "l5wqg3wzc7Ev",
        "colab_type": "code",
        "colab": {}
      },
      "source": [
        ""
      ],
      "execution_count": 0,
      "outputs": []
    },
    {
      "cell_type": "code",
      "metadata": {
        "id": "2GpFHEFDelRy",
        "colab_type": "code",
        "colab": {}
      },
      "source": [
        ""
      ],
      "execution_count": 0,
      "outputs": []
    },
    {
      "cell_type": "code",
      "metadata": {
        "id": "2TPtMSlmouei",
        "colab_type": "code",
        "colab": {}
      },
      "source": [
        ""
      ],
      "execution_count": 0,
      "outputs": []
    },
    {
      "cell_type": "code",
      "metadata": {
        "id": "iZBZJKwgwPvG",
        "colab_type": "code",
        "colab": {}
      },
      "source": [
        "# master_df.to_csv('master.csv', index=False)\n",
        "# files.download('master.csv')"
      ],
      "execution_count": 0,
      "outputs": []
    },
    {
      "cell_type": "code",
      "metadata": {
        "id": "uLIAv07dp9Uo",
        "colab_type": "code",
        "colab": {}
      },
      "source": [
        ""
      ],
      "execution_count": 0,
      "outputs": []
    },
    {
      "cell_type": "code",
      "metadata": {
        "id": "lKklDYlAZFY3",
        "colab_type": "code",
        "colab": {}
      },
      "source": [
        ""
      ],
      "execution_count": 0,
      "outputs": []
    },
    {
      "cell_type": "code",
      "metadata": {
        "id": "fW983YxWOBjv",
        "colab_type": "code",
        "colab": {}
      },
      "source": [
        ""
      ],
      "execution_count": 0,
      "outputs": []
    },
    {
      "cell_type": "code",
      "metadata": {
        "id": "uLHHXWLl0RBP",
        "colab_type": "code",
        "colab": {}
      },
      "source": [
        ""
      ],
      "execution_count": 0,
      "outputs": []
    }
  ]
}