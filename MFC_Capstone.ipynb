{
  "nbformat": 4,
  "nbformat_minor": 0,
  "metadata": {
    "colab": {
      "name": "MFC_Capstone.ipynb",
      "version": "0.3.2",
      "provenance": [],
      "collapsed_sections": [],
      "include_colab_link": true
    },
    "kernelspec": {
      "name": "python3",
      "display_name": "Python 3"
    }
  },
  "cells": [
    {
      "cell_type": "markdown",
      "metadata": {
        "id": "view-in-github",
        "colab_type": "text"
      },
      "source": [
        "<a href=\"https://colab.research.google.com/github/tripidhoble/Hackathon-Projects/blob/master/MFC_Capstone.ipynb\" target=\"_parent\"><img src=\"https://colab.research.google.com/assets/colab-badge.svg\" alt=\"Open In Colab\"/></a>"
      ]
    },
    {
      "cell_type": "code",
      "metadata": {
        "id": "fQqqS__ljOuq",
        "colab_type": "code",
        "outputId": "d80c1b61-0ed7-4cf8-abf5-9c4d6f1a8578",
        "colab": {
          "base_uri": "https://localhost:8080/",
          "height": 126
        }
      },
      "source": [
        "from google.colab import drive\n",
        "drive.mount('/content/drive')"
      ],
      "execution_count": 0,
      "outputs": [
        {
          "output_type": "stream",
          "text": [
            "Go to this URL in a browser: https://accounts.google.com/o/oauth2/auth?client_id=947318989803-6bn6qk8qdgf4n4g3pfee6491hc0brc4i.apps.googleusercontent.com&redirect_uri=urn%3Aietf%3Awg%3Aoauth%3A2.0%3Aoob&scope=email%20https%3A%2F%2Fwww.googleapis.com%2Fauth%2Fdocs.test%20https%3A%2F%2Fwww.googleapis.com%2Fauth%2Fdrive%20https%3A%2F%2Fwww.googleapis.com%2Fauth%2Fdrive.photos.readonly%20https%3A%2F%2Fwww.googleapis.com%2Fauth%2Fpeopleapi.readonly&response_type=code\n",
            "\n",
            "Enter your authorization code:\n",
            "··········\n",
            "Mounted at /content/drive\n"
          ],
          "name": "stdout"
        }
      ]
    },
    {
      "cell_type": "code",
      "metadata": {
        "id": "34HWyzcGjqpV",
        "colab_type": "code",
        "colab": {}
      },
      "source": [
        "import numpy as np\n",
        "import pandas as pd\n",
        "import matplotlib.pyplot as plt\n",
        "import seaborn as sns\n",
        "%matplotlib inline\n",
        "import warnings\n",
        "warnings.filterwarnings('ignore')"
      ],
      "execution_count": 0,
      "outputs": []
    },
    {
      "cell_type": "code",
      "metadata": {
        "id": "VhtkA45ajcHz",
        "colab_type": "code",
        "colab": {}
      },
      "source": [
        "path = \"drive/My Drive/data/\"\n",
        "\n",
        "customer_df = pd.read_csv(path + 'customer.csv')\n",
        "invoice_df = pd.read_csv(path + 'invoice.csv')\n",
        "jtd_df = pd.read_csv(path + 'jtd.csv')\n",
        "plant_df = pd.read_csv(path + 'plant.csv')\n",
        "vehicles_df = pd.read_csv(path + 'vehicles.csv')"
      ],
      "execution_count": 0,
      "outputs": []
    },
    {
      "cell_type": "code",
      "metadata": {
        "id": "w2zIxRzAkpQb",
        "colab_type": "code",
        "colab": {}
      },
      "source": [
        "# Drop unwanted columns from all dataframes\n",
        "def drop_col(df, col_to_drop):\n",
        "  df.drop(col_to_drop, axis=1, inplace=True)\n",
        "  return df\n",
        "\n",
        "invoice_columns_to_drop = ['Unnamed: 0', 'Amt Rcvd From Custom', 'Amt Rcvd From Ins Co','Area / Locality',\n",
        "                           'CGST(14%)', 'CGST(2.5%)', 'CGST(6%)', 'CGST(9%)',\n",
        "                           'IGST(12%)', 'IGST(18%)', 'IGST(28%)', 'IGST(5%)', 'Insurance Company',\n",
        "                           'Outstanding Amt', 'SGST/UGST(14%)', 'SGST/UGST(2.5%)', 'SGST/UGST(6%)', 'SGST/UGST(9%)',\n",
        "                           'Service Advisor Name', 'TDS amount', 'Total CGST', 'Total GST', 'Total IGST',\n",
        "                           'Total SGST/UGST'\n",
        "                          ]\n",
        "customer_columns_to_drop = ['Unnamed: 0','Death date']\n",
        "plant_columns_to_drop = ['Unnamed: 0','Name 1','Factory calendar','Valuation Area', 'Customer no. - plant','PO Box','Name 2','Vendor number plant','House number and street']\n",
        "jtd_columns_to_drop = ['Unnamed: 0']\n",
        "vehicles_columns_to_drop = ['Unnamed: 0']\n",
        "\n",
        "dataframes = [invoice_df, customer_df, plant_df, jtd_df, vehicles_df]\n",
        "dataframe_columns_to_drop = [invoice_columns_to_drop, customer_columns_to_drop, plant_columns_to_drop, jtd_columns_to_drop, vehicles_columns_to_drop]\n",
        "\n",
        "for i in range(len(dataframes)):\n",
        "  drop_col(dataframes[i],dataframe_columns_to_drop[i])\n",
        "  "
      ],
      "execution_count": 0,
      "outputs": []
    },
    {
      "cell_type": "code",
      "metadata": {
        "id": "sVeGROVWuCIU",
        "colab_type": "code",
        "colab": {}
      },
      "source": [
        "#Remove leading zeros from 'Customer No.' column\n",
        "def remove_leading_zeros(dataset,cols):\n",
        "    for col in cols:\n",
        "      dataset[col] = dataset[col].astype(str).apply(lambda x: x.lstrip(\"0\"))\n",
        "    return dataset\n",
        "\n",
        "invoice_df  = remove_leading_zeros(invoice_df,['Customer No.'])\n",
        "customer_df = remove_leading_zeros(customer_df,['Customer No.'])"
      ],
      "execution_count": 0,
      "outputs": []
    },
    {
      "cell_type": "code",
      "metadata": {
        "id": "aL5o_LRAyF1w",
        "colab_type": "code",
        "colab": {}
      },
      "source": [
        "# Merge dataframes based on key\n",
        "def merge_df(left_df, right_df, key):\n",
        "    merge_df = pd.merge(left=left_df, right=right_df, how='left', on=key)\n",
        "    return merge_df\n",
        "\n",
        "invoice_customer_df = merge_df(left_df=invoice_df, right_df=customer_df,key=['Customer No.'])\n",
        "invoice_customer_plant_df = merge_df(left_df=invoice_customer_df, right_df=plant_df,key=['Plant'])\n",
        "\n",
        "master_df = invoice_customer_plant_df"
      ],
      "execution_count": 0,
      "outputs": []
    },
    {
      "cell_type": "code",
      "metadata": {
        "id": "hZ2w9uvXzwmi",
        "colab_type": "code",
        "colab": {}
      },
      "source": [
        "master_df['CITY'].fillna(master_df['City'])\n",
        "\n",
        "#remove dulicate column 'City'\n",
        "master_df = drop_col(df=master_df, col_to_drop=['City'])"
      ],
      "execution_count": 0,
      "outputs": []
    },
    {
      "cell_type": "code",
      "metadata": {
        "id": "3ebfqCjDyxUT",
        "colab_type": "code",
        "colab": {}
      },
      "source": [
        "\n",
        "# Function to identify the number of missing values in every feature\n",
        "def missing_datas(dataset):\n",
        "    total = dataset.isnull().sum().sort_values(ascending=False)\n",
        "    percent = ((dataset.isnull().sum())*100/dataset.isnull().count()).sort_values(ascending=False)\n",
        "    missing_data = pd.concat([total, percent], axis=1, keys=['Total', 'Percent'])\n",
        "    return missing_data\n",
        "    \n",
        "    \n",
        "missing_data = missing_datas(master_df)\n",
        "print(missing_data[missing_data['Percent']>0.00])"
      ],
      "execution_count": 0,
      "outputs": []
    },
    {
      "cell_type": "code",
      "metadata": {
        "id": "-3XDnJTC0zmt",
        "colab_type": "code",
        "colab": {}
      },
      "source": [
        "# Function to drop missing values\n",
        "def drop_missing(dataset, missing, min_threshold, max_threshold):\n",
        "    dataset = dataset.drop((missing[missing['Percent'] > max_threshold]).index,axis= 1)\n",
        "    dataset = dataset.dropna(axis=0, subset=(missing[missing['Percent'] < min_threshold]).index)\n",
        "    return dataset \n",
        "\n",
        "master_df=drop_missing(dataset=master_df,missing=missing_data,min_threshold=25,max_threshold=40)"
      ],
      "execution_count": 0,
      "outputs": []
    },
    {
      "cell_type": "code",
      "metadata": {
        "id": "kPjHYn-Qb1X1",
        "colab_type": "code",
        "colab": {}
      },
      "source": [
        "new_missing_data = missing_datas(master_df)\n",
        "print(new_missing_data[new_missing_data['Percent']>0.00])"
      ],
      "execution_count": 0,
      "outputs": []
    },
    {
      "cell_type": "code",
      "metadata": {
        "id": "Irj6rlFfjsto",
        "colab_type": "code",
        "colab": {}
      },
      "source": [
        "# Function to identify numeric features\n",
        "def numeric_features(dataset):\n",
        "    numeric_col = dataset.select_dtypes(include=['number']).columns\n",
        "    return numeric_col\n",
        "\n",
        "\n",
        "numeric_columns = numeric_features(master_df)\n",
        "print(\"Numeric Features:\")\n",
        "print(numeric_columns)\n",
        "print(\"====\"*20)\n",
        "\n",
        "# Function to identify categorical features\n",
        "def categorical_features(dataset):\n",
        "    categorical_col = dataset.select_dtypes(exclude=['number']).columns\n",
        "    return categorical_col\n",
        "\n",
        "categorical_columns = categorical_features(master_df)\n",
        "print(\"Categorical Features:\")\n",
        "print(categorical_columns)"
      ],
      "execution_count": 0,
      "outputs": []
    },
    {
      "cell_type": "code",
      "metadata": {
        "id": "3pve19JNCvpj",
        "colab_type": "code",
        "colab": {}
      },
      "source": [
        "def lowercase(dataset, cols):\n",
        "    for col in cols:\n",
        "        dataset[col] = dataset[col].astype(str).apply(lambda x: x.lower())\n",
        "    return dataset\n",
        "\n",
        "master_df = lowercase(master_df,categorical_columns)"
      ],
      "execution_count": 0,
      "outputs": []
    },
    {
      "cell_type": "code",
      "metadata": {
        "id": "NRo5xYqmIqxN",
        "colab_type": "code",
        "colab": {}
      },
      "source": [
        "master_df.sample(5)"
      ],
      "execution_count": 0,
      "outputs": []
    },
    {
      "cell_type": "code",
      "metadata": {
        "id": "Tipj2uPa3NOJ",
        "colab_type": "code",
        "colab": {}
      },
      "source": [
        "master_df.describe(include='all')"
      ],
      "execution_count": 0,
      "outputs": []
    },
    {
      "cell_type": "code",
      "metadata": {
        "id": "GkypNO-2RRAN",
        "colab_type": "code",
        "outputId": "0344e0f0-e09b-4f12-a656-9e67d86af69c",
        "colab": {
          "base_uri": "https://localhost:8080/",
          "height": 753
        }
      },
      "source": [
        "# Function to perform univariate analysis of categorical columns\n",
        "def plot_categorical_columns(dataframe):\n",
        "    categorical_columns = categorical_features(dataframe)\n",
        "    dataframe = dataframe[categorical_columns]\n",
        "    for i in dataframe:\n",
        "        plt.title(i)\n",
        "        dataframe[i].value_counts(normalize=True).plot(kind='bar')\n",
        "        plt.show()\n",
        "\n",
        "plot = plot_categorical_columns(master_df)"
      ],
      "execution_count": 0,
      "outputs": [
        {
          "output_type": "display_data",
          "data": {
            "image/png": "[encoded data removed]",
            "text/plain": [
              "<Figure size 432x288 with 1 Axes>"
            ]
          },
          "metadata": {
            "tags": []
          }
        },
        {
          "output_type": "display_data",
          "data": {
            "image/png": "[encoded data removed]",
            "text/plain": [
              "<Figure size 432x288 with 1 Axes>"
            ]
          },
          "metadata": {
            "tags": []
          }
        }
      ]
    },
    {
      "cell_type": "code",
      "metadata": {
        "id": "LXjZ2G9DhVuJ",
        "colab_type": "code",
        "colab": {}
      },
      "source": [
        ""
      ],
      "execution_count": 0,
      "outputs": []
    },
    {
      "cell_type": "code",
      "metadata": {
        "id": "RZkjMRSAoA9Z",
        "colab_type": "code",
        "colab": {}
      },
      "source": [
        ""
      ],
      "execution_count": 0,
      "outputs": []
    },
    {
      "cell_type": "code",
      "metadata": {
        "id": "5ZynL7uiABce",
        "colab_type": "code",
        "colab": {}
      },
      "source": [
        ""
      ],
      "execution_count": 0,
      "outputs": []
    },
    {
      "cell_type": "code",
      "metadata": {
        "id": "l5wqg3wzc7Ev",
        "colab_type": "code",
        "colab": {}
      },
      "source": [
        ""
      ],
      "execution_count": 0,
      "outputs": []
    },
    {
      "cell_type": "code",
      "metadata": {
        "id": "2GpFHEFDelRy",
        "colab_type": "code",
        "colab": {}
      },
      "source": [
        ""
      ],
      "execution_count": 0,
      "outputs": []
    },
    {
      "cell_type": "code",
      "metadata": {
        "id": "2TPtMSlmouei",
        "colab_type": "code",
        "colab": {}
      },
      "source": [
        ""
      ],
      "execution_count": 0,
      "outputs": []
    },
    {
      "cell_type": "code",
      "metadata": {
        "id": "uLIAv07dp9Uo",
        "colab_type": "code",
        "colab": {}
      },
      "source": [
        ""
      ],
      "execution_count": 0,
      "outputs": []
    },
    {
      "cell_type": "code",
      "metadata": {
        "id": "lKklDYlAZFY3",
        "colab_type": "code",
        "colab": {}
      },
      "source": [
        ""
      ],
      "execution_count": 0,
      "outputs": []
    },
    {
      "cell_type": "code",
      "metadata": {
        "id": "fW983YxWOBjv",
        "colab_type": "code",
        "colab": {}
      },
      "source": [
        ""
      ],
      "execution_count": 0,
      "outputs": []
    },
    {
      "cell_type": "code",
      "metadata": {
        "id": "uLHHXWLl0RBP",
        "colab_type": "code",
        "colab": {}
      },
      "source": [
        ""
      ],
      "execution_count": 0,
      "outputs": []
    }
  ]
}