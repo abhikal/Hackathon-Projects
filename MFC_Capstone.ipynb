{
  "nbformat": 4,
  "nbformat_minor": 0,
  "metadata": {
    "colab": {
      "name": "MFC_Capstone.ipynb",
      "version": "0.3.2",
      "provenance": [],
      "collapsed_sections": [],
      "include_colab_link": true
    },
    "kernelspec": {
      "name": "python3",
      "display_name": "Python 3"
    },
    "accelerator": "GPU"
  },
  "cells": [
    {
      "cell_type": "markdown",
      "metadata": {
        "id": "view-in-github",
        "colab_type": "text"
      },
      "source": [
        "<a href=\"https://colab.research.google.com/github/tripidhoble/Hackathon-Projects/blob/master/MFC_Capstone.ipynb\" target=\"_parent\"><img src=\"https://colab.research.google.com/assets/colab-badge.svg\" alt=\"Open In Colab\"/></a>"
      ]
    },
    {
      "cell_type": "code",
      "metadata": {
        "id": "HHc4hn2bUEco",
        "colab_type": "code",
        "colab": {
          "base_uri": "https://localhost:8080/",
          "height": 106
        },
        "outputId": "1698e424-0948-427f-86da-2bcccf46a3a6"
      },
      "source": [
        "pip install pyspellchecker"
      ],
      "execution_count": 3,
      "outputs": [
        {
          "output_type": "stream",
          "text": [
            "Collecting pyspellchecker\n",
            "\u001b[?25l  Downloading https://files.pythonhosted.org/packages/49/77/78b5a7ccb9079dff2d32b88762b1d53f29fad1f09b61ee883d3bae841020/pyspellchecker-0.5.0-py3-none-any.whl (1.9MB)\n",
            "\u001b[K     |████████████████████████████████| 1.9MB 4.9MB/s \n",
            "\u001b[?25hInstalling collected packages: pyspellchecker\n",
            "Successfully installed pyspellchecker-0.5.0\n"
          ],
          "name": "stdout"
        }
      ]
    },
    {
      "cell_type": "code",
      "metadata": {
        "id": "fQqqS__ljOuq",
        "colab_type": "code",
        "outputId": "29906f14-07fa-4b00-e00b-e8c0cde5190c",
        "colab": {
          "base_uri": "https://localhost:8080/",
          "height": 126
        }
      },
      "source": [
        "from google.colab import drive\n",
        "drive.mount('/content/drive')"
      ],
      "execution_count": 4,
      "outputs": [
        {
          "output_type": "stream",
          "text": [
            "Go to this URL in a browser: https://accounts.google.com/o/oauth2/auth?client_id=947318989803-6bn6qk8qdgf4n4g3pfee6491hc0brc4i.apps.googleusercontent.com&redirect_uri=urn%3Aietf%3Awg%3Aoauth%3A2.0%3Aoob&scope=email%20https%3A%2F%2Fwww.googleapis.com%2Fauth%2Fdocs.test%20https%3A%2F%2Fwww.googleapis.com%2Fauth%2Fdrive%20https%3A%2F%2Fwww.googleapis.com%2Fauth%2Fdrive.photos.readonly%20https%3A%2F%2Fwww.googleapis.com%2Fauth%2Fpeopleapi.readonly&response_type=code\n",
            "\n",
            "Enter your authorization code:\n",
            "··········\n",
            "Mounted at /content/drive\n"
          ],
          "name": "stdout"
        }
      ]
    },
    {
      "cell_type": "code",
      "metadata": {
        "id": "34HWyzcGjqpV",
        "colab_type": "code",
        "colab": {}
      },
      "source": [
        "import numpy as np\n",
        "import pandas as pd\n",
        "import matplotlib.pyplot as plt\n",
        "import seaborn as sns\n",
        "%matplotlib inline\n",
        "import warnings\n",
        "warnings.filterwarnings('ignore')"
      ],
      "execution_count": 0,
      "outputs": []
    },
    {
      "cell_type": "code",
      "metadata": {
        "id": "POjDy7jbxQqv",
        "colab_type": "code",
        "colab": {}
      },
      "source": [
        "#import important libraries\n",
        "from spellchecker import SpellChecker"
      ],
      "execution_count": 0,
      "outputs": []
    },
    {
      "cell_type": "code",
      "metadata": {
        "id": "VhtkA45ajcHz",
        "colab_type": "code",
        "colab": {}
      },
      "source": [
        "path = \"drive/My Drive/data/\"\n",
        "\n",
        "customer_df = pd.read_csv(path + 'customer.csv')\n",
        "invoice_df = pd.read_csv(path + 'invoice.csv')\n",
        "jtd_df = pd.read_csv(path + 'jtd.csv')\n",
        "plant_df = pd.read_csv(path + 'plant.csv')\n",
        "vehicles_df = pd.read_csv(path + 'vehicles.csv')"
      ],
      "execution_count": 0,
      "outputs": []
    },
    {
      "cell_type": "code",
      "metadata": {
        "id": "w2zIxRzAkpQb",
        "colab_type": "code",
        "colab": {}
      },
      "source": [
        "# 1. drop unwanted columns from all dataframes\n",
        "# 2. lowercase all the categorical columns\n",
        "\n",
        "def drop_col(dataset, col_to_drop):\n",
        "    dataset.drop(col_to_drop, axis=1, inplace=True)\n",
        "    return dataset\n",
        "\n",
        "def lowercase(dataset):\n",
        "    categorical_col = dataset.select_dtypes(exclude=['number']).columns\n",
        "    for col in categorical_col:\n",
        "        dataset[col] = dataset[col].map(lambda x: x if type(x)!=str else x.lower())\n",
        "    return dataset\n",
        "\n",
        "invoice_columns_to_drop = ['Unnamed: 0', 'Amt Rcvd From Custom', 'Amt Rcvd From Ins Co','Area / Locality',\n",
        "                           'CGST(14%)', 'CGST(2.5%)', 'CGST(6%)', 'CGST(9%)',\n",
        "                           'IGST(12%)', 'IGST(18%)', 'IGST(28%)', 'IGST(5%)', 'Insurance Company',\n",
        "                           'Outstanding Amt', 'SGST/UGST(14%)', 'SGST/UGST(2.5%)', 'SGST/UGST(6%)', 'SGST/UGST(9%)',\n",
        "                           'Service Advisor Name', 'TDS amount', 'Total CGST', 'Total GST', 'Total IGST',\n",
        "                           'Total SGST/UGST','Plant Name1','Recovrbl Exp']\n",
        "customer_columns_to_drop = ['Unnamed: 0','Death date']\n",
        "plant_columns_to_drop = ['Unnamed: 0','Name 1','Factory calendar','Valuation Area',\n",
        "                         'Customer no. - plant','PO Box','Postal Code','Name 2',\n",
        "                         'Vendor number plant','House number and street']\n",
        "jtd_columns_to_drop = ['Unnamed: 0']\n",
        "vehicles_columns_to_drop = ['Unnamed: 0','Product GUID']\n",
        "\n",
        "dataframes = [invoice_df, customer_df, plant_df, jtd_df, vehicles_df]\n",
        "dataframe_columns_to_drop = [invoice_columns_to_drop, customer_columns_to_drop, plant_columns_to_drop, jtd_columns_to_drop, vehicles_columns_to_drop]\n",
        "\n",
        "for i in range(len(dataframes)):\n",
        "  dataframes[i] = drop_col(dataframes[i],dataframe_columns_to_drop[i])\n",
        "  dataframes[i] = lowercase(dataframes[i])"
      ],
      "execution_count": 0,
      "outputs": []
    },
    {
      "cell_type": "code",
      "metadata": {
        "id": "sVeGROVWuCIU",
        "colab_type": "code",
        "colab": {}
      },
      "source": [
        "\n",
        "# Preprocessing for dataset merge operation\n",
        "\n",
        "# 1. Remove leading zeros from 'Customer No.' column\n",
        "def remove_leading_zeros(dataset,cols):\n",
        "    for col in cols:\n",
        "      dataset[col] = dataset[col].astype(str).apply(lambda x: x.lstrip(\"0\"))\n",
        "    return dataset\n",
        "invoice_df  = remove_leading_zeros(invoice_df,['Customer No.'])\n",
        "customer_df = remove_leading_zeros(customer_df,['Customer No.'])\n",
        "\n",
        "\n",
        "# 2. Rename columns to use them as key column for merge operation\n",
        "def rename_columns(dataset, rename_cols_dict):\n",
        "    dataset.rename(columns=rename_cols_dict, inplace=True)\n",
        "    return dataset\n",
        "dict_invoice_df = {'District':'State'}\n",
        "dict_vehicles_df = {'Vehicle Model':'Make', 'License Plate Number':'Regn No'}\n",
        "\n",
        "invoice_df  = rename_columns(invoice_df, dict_invoice_df)\n",
        "vehicles_df = rename_columns(vehicles_df, dict_vehicles_df)\n",
        "\n",
        "\n",
        "# 3. Replace values in key columns for merge operation\n",
        "def replacement(dataset, col, dict_replacement, regex=False):\n",
        "    dataset[col] = dataset[col].replace(dict_replacement, regex=regex )\n",
        "    return dataset\n",
        "make_replacements = {\n",
        "                    'mahindra &  mahindra': 'mahindra',\n",
        "                    'tata motors': 'tata',\n",
        "                    'maruti suzuki': 'maruti',\n",
        "                    'mercedes benz': 'mercedes-benz',\n",
        "                    'porche': 'porsche',\n",
        "                    'land rover' : 'rover',\n",
        "                    'mitsubishi motors':'mitsubishi motor',\n",
        "                    'premier\\xa0automobiles': 'premierauto'\n",
        "                    }\n",
        "pattern_replacement = {'z_':''}\n",
        "vehicles_df = replacement(vehicles_df, 'Make', pattern_replacement, regex=True)\n",
        "vehicles_df = replacement(vehicles_df, 'Make', make_replacements)\n",
        "invoice_df  = replacement(invoice_df, 'Make', make_replacements)"
      ],
      "execution_count": 0,
      "outputs": []
    },
    {
      "cell_type": "code",
      "metadata": {
        "colab_type": "code",
        "id": "Bwnf_Q2LvmGg",
        "colab": {}
      },
      "source": [
        "# Merge dataframes based on key\n",
        "def merge_df(left_df, right_df, key):\n",
        "    merge_df = pd.merge(left=left_df, right=right_df, how='left', on=key)\n",
        "    return merge_df\n",
        "\n",
        "invoice_customer_df = merge_df(left_df=invoice_df, right_df=customer_df,key=['Customer No.'])\n",
        "invoice_customer_plant_df = merge_df(left_df=invoice_customer_df, right_df=plant_df,key=['Plant','State'])\n",
        "invoice_customer_plant_vehicles_df = merge_df(left_df=invoice_customer_plant_df, right_df=vehicles_df,key=['Regn No','Make'])\n",
        "\n",
        "master_df = invoice_customer_plant_vehicles_df"
      ],
      "execution_count": 0,
      "outputs": []
    },
    {
      "cell_type": "code",
      "metadata": {
        "id": "01UPBWu0KzgE",
        "colab_type": "code",
        "outputId": "ac5cc76f-1cdd-46ff-ea01-6a70ef931db6",
        "colab": {
          "base_uri": "https://localhost:8080/",
          "height": 141
        }
      },
      "source": [
        "print(\"invoice_df shape: \",invoice_df.shape)\n",
        "print(\"customer_df shape: \",customer_df.shape)\n",
        "print(\"invoice_customer_df shape: \",invoice_customer_df.shape)\n",
        "print(\"plant_df shape: \",plant_df.shape)\n",
        "print(\"invoice_customer_plant_df shape: \",invoice_customer_plant_df.shape)\n",
        "print(\"vehicles_df shape: \",vehicles_df.shape)\n",
        "print(\"invoice_customer_plant_vehicles_df shape: \",invoice_customer_plant_vehicles_df.shape)"
      ],
      "execution_count": 11,
      "outputs": [
        {
          "output_type": "stream",
          "text": [
            "invoice_df shape:  (984741, 33)\n",
            "customer_df shape:  (555338, 8)\n",
            "invoice_customer_df shape:  (984741, 40)\n",
            "plant_df shape:  (438, 4)\n",
            "invoice_customer_plant_df shape:  (984741, 42)\n",
            "vehicles_df shape:  (588761, 3)\n",
            "invoice_customer_plant_vehicles_df shape:  (992903, 43)\n"
          ],
          "name": "stdout"
        }
      ]
    },
    {
      "cell_type": "code",
      "metadata": {
        "id": "2BDjlDr4BmMi",
        "colab_type": "code",
        "colab": {}
      },
      "source": [
        "# fill missing values of 'CITY' column \n",
        "master_df['CITY'].fillna(master_df['City'], inplace = True)\n",
        "\n",
        "#remove dulicate column 'City'\n",
        "master_df = drop_col(dataset=master_df, col_to_drop=['City'])"
      ],
      "execution_count": 0,
      "outputs": []
    },
    {
      "cell_type": "code",
      "metadata": {
        "id": "3ebfqCjDyxUT",
        "colab_type": "code",
        "outputId": "4511d2b5-84ae-475b-d0ff-3ddd370b8977",
        "colab": {
          "base_uri": "https://localhost:8080/",
          "height": 532
        }
      },
      "source": [
        "# Function to identify the number of missing values in every feature\n",
        "def missing_datas(dataset):\n",
        "    total = dataset.isnull().sum().sort_values(ascending=False)\n",
        "    percent = ((dataset.isnull().sum())*100/dataset.isnull().count()).sort_values(ascending=False)\n",
        "    missing_data = pd.concat([total, percent], axis=1, keys=['Total', 'Percent'])\n",
        "    return missing_data\n",
        "    \n",
        "missing_data_master_df = missing_datas(master_df)\n",
        "print(\"missing data for 'master_df': \")\n",
        "print(missing_data_master_df[missing_data_master_df['Percent']>0.00])\n",
        "\n",
        "missing_data_jtd_df = missing_datas(jtd_df)\n",
        "print(\"missing data for 'jtd_df': \")\n",
        "print(missing_data_jtd_df[missing_data_jtd_df['Percent']>0.00])"
      ],
      "execution_count": 13,
      "outputs": [
        {
          "output_type": "stream",
          "text": [
            "missing data for 'master_df': \n",
            "                      Total    Percent\n",
            "Claim No.            988053  99.511533\n",
            "Occupation           965665  97.256731\n",
            "Cash /Cashless Type  965197  97.209597\n",
            "Date of Birth        962418  96.929710\n",
            "Marital Status       958174  96.502277\n",
            "Gate Pass Date       946518  95.328345\n",
            "Policy no.           924141  93.074651\n",
            "Expiry Date          894807  90.120284\n",
            "Technician Name      734250  73.949822\n",
            "ODN No.              690834  69.577189\n",
            "Total Value          690834  69.577189\n",
            "Sales organization   279168  28.116342\n",
            "Title                152663  15.375419\n",
            "Fuel Type             21738   2.189338\n",
            "Data Origin            7627   0.768152\n",
            "Partner Type           5489   0.552823\n",
            "Business Partner       3510   0.353509\n",
            "Regn No                3315   0.333869\n",
            "Model                  1736   0.174841\n",
            "Cust Type                 4   0.000403\n",
            "CITY                      3   0.000302\n",
            "missing data for 'jtd_df': \n",
            "                       Total    Percent\n",
            "Labor Value Number   3774033  67.159778\n",
            "Target quantity UoM    51629   0.918750\n",
            "Description            51629   0.918750\n",
            "Material               51629   0.918750\n"
          ],
          "name": "stdout"
        }
      ]
    },
    {
      "cell_type": "code",
      "metadata": {
        "id": "-3XDnJTC0zmt",
        "colab_type": "code",
        "colab": {}
      },
      "source": [
        "# Function to drop missing values\n",
        "def drop_missing(dataset, missing, min_threshold, max_threshold):\n",
        "    dataset = dataset.drop((missing[missing['Percent'] > max_threshold]).index,axis= 1)\n",
        "    dataset = dataset.dropna(axis=0, subset=(missing[missing['Percent'] < min_threshold]).index)\n",
        "    return dataset \n",
        "\n",
        "master_df  = drop_missing(master_df,missing_data_master_df,2,40)\n",
        "jtd_df     = drop_missing(jtd_df,missing_data_jtd_df,2,40)"
      ],
      "execution_count": 0,
      "outputs": []
    },
    {
      "cell_type": "code",
      "metadata": {
        "id": "kPjHYn-Qb1X1",
        "colab_type": "code",
        "outputId": "527c917f-2fac-4f0a-ec0e-a1a8b5f4ce57",
        "colab": {
          "base_uri": "https://localhost:8080/",
          "height": 177
        }
      },
      "source": [
        "#recheck the missing values\n",
        "new_missing_data = missing_datas(master_df)\n",
        "print(\"missing data for 'master_df'\")\n",
        "print(new_missing_data[new_missing_data['Percent']>0.00])\n",
        "\n",
        "new_missing_data = missing_datas(jtd_df)\n",
        "print(\"missing data for 'jtd_df'\")\n",
        "print(new_missing_data[new_missing_data['Percent']>0.00])"
      ],
      "execution_count": 15,
      "outputs": [
        {
          "output_type": "stream",
          "text": [
            "missing data for 'master_df'\n",
            "                     Total    Percent\n",
            "Sales organization  271769  27.721998\n",
            "Title               144020  14.690867\n",
            "Fuel Type            18288   1.865481\n",
            "missing data for 'jtd_df'\n",
            "Empty DataFrame\n",
            "Columns: [Total, Percent]\n",
            "Index: []\n"
          ],
          "name": "stdout"
        }
      ]
    },
    {
      "cell_type": "code",
      "metadata": {
        "id": "dWLLSDnKNpiS",
        "colab_type": "code",
        "colab": {}
      },
      "source": [
        "#fill missing values with mode\n",
        "def Fill_Missing_Values(dataset, cols):\n",
        "    for col in cols:\n",
        "      dataset[col].fillna(dataset[col].dropna().mode()[0], inplace = True)\n",
        "    return dataset\n",
        "  \n",
        "master_df = Fill_Missing_Values(dataset=master_df,cols=['Sales organization','Title','Fuel Type'])"
      ],
      "execution_count": 0,
      "outputs": []
    },
    {
      "cell_type": "code",
      "metadata": {
        "id": "PqzSDGdOoxx0",
        "colab_type": "code",
        "colab": {}
      },
      "source": [
        "# combine Date & Time columns\n",
        "def to_datetime(dataset, datetime_cols):\n",
        "    for datetime in datetime_cols:\n",
        "      dataset[datetime[0] + '-' + datetime[1]] = pd.to_datetime(dataset[datetime[0]]+ ' ' + dataset[datetime[1]])\n",
        "    return dataset\n",
        "datetime_cols = ['Invoice Date','Invoice Time','JobCard Date','JobCard Time']\n",
        "master_df = to_datetime(master_df, [['Invoice Date','Invoice Time'],['JobCard Date','JobCard Time']])\n",
        "\n",
        "\n",
        "#split datetime column\n",
        "master_df['Year']  = master_df['Invoice Date-Invoice Time'].dt.year\n",
        "master_df['Month'] = master_df['Invoice Date-Invoice Time'].dt.month\n",
        "\n",
        "\n",
        "# add job duration column\n",
        "def job_completion_time(dataset, start_datetime, end_datetime):\n",
        "    dataset['Job_duration(in days)'] = (dataset[start_datetime] - dataset[end_datetime]) / np.timedelta64(1,'D')\n",
        "    return dataset\n",
        "master_df = job_completion_time(master_df, 'Invoice Date-Invoice Time', 'JobCard Date-JobCard Time')\n",
        "\n",
        "\n",
        "# add total all costs to get 'Total Expenses'\n",
        "def sum_cols(dataset, cols_to_sum, result_col):\n",
        "  dataset[result_col] = 0\n",
        "  for col in cols_to_sum:\n",
        "      dataset[result_col] = dataset[result_col] + dataset[col]\n",
        "  return dataset\n",
        "cost_cols     = ['Misc Total','OSL Total','Parts Total','Total Amt Wtd Tax.']\n",
        "master_df =  sum_cols(master_df, cost_cols, 'Total_Expense')\n",
        "\n",
        "\n",
        "#remove dulicate column Date-Time columns\n",
        "master_df = drop_col(master_df, datetime_cols)\n",
        "master_df = drop_col(master_df, cost_cols)"
      ],
      "execution_count": 0,
      "outputs": []
    },
    {
      "cell_type": "code",
      "metadata": {
        "id": "X8dlXs5-Ttvg",
        "colab_type": "code",
        "colab": {}
      },
      "source": [
        "# map column description\n",
        "def map_description(dataset,col, map_dict):\n",
        "    dataset[col] = dataset[col].astype(str).map(map_dict)\n",
        "    return dataset\n",
        "\n",
        "data_origin_dict = { 'z001':'Camp-Outdoor','z002':'Camp-Workshop','z003':'Emailers',\n",
        "                     'z004':'Fleet','z005':'Ref-Customer','z006':'Ref-Employee',\n",
        "                     'z007':'Used Car Dealer','z008':'Just Dial/Other',\n",
        "                     'z009':'Snapdeal/Web','z010':'Company website',\n",
        "                     'z011':'Float activity','z012':'Petrol pump',\n",
        "                     'z013':'Hoardings/ADVT','z014':'Insurance Co',\n",
        "                     'z015':'Television AD','z016':'Newspaper AD',\n",
        "                     'z017':'Newsppr leaflet','z018':'Sales Activity',\n",
        "                     'z019':'Spotted outlet','z020':'M & M Employee',\n",
        "                     'z021':'Outdoor Activty','z022':'Radio'\n",
        "                  }\n",
        "\n",
        "partner_type_dict = {'1.0':'Retail','2.0':'Corporate','3.0':'Fleet',\n",
        "                     '4.0':'Employee','9001.0':'Insurance Company',\n",
        "                     '9002.0':'Surveyor','9003.0':'Contact Person'\n",
        "                    }\n",
        "\n",
        "master_df = map_description(master_df,'Data Origin', data_origin_dict)\n",
        "master_df = map_description(master_df,'Partner Type', partner_type_dict)\n",
        "\n",
        "# change columns dtype\n",
        "\n",
        "def modify_col_type(dataset, col, dtype):\n",
        "    dataset[col] = dataset[col].astype(dtype)\n",
        "    return dataset\n",
        "\n",
        "master_df = modify_col_type(master_df, 'Fuel Type', int)\n",
        "\n"
      ],
      "execution_count": 0,
      "outputs": []
    },
    {
      "cell_type": "code",
      "metadata": {
        "id": "eyi1eRxRibdG",
        "colab_type": "code",
        "outputId": "d239f585-6f08-495b-c431-4a7de9e392ef",
        "colab": {
          "base_uri": "https://localhost:8080/",
          "height": 159
        }
      },
      "source": [
        "master_df.columns"
      ],
      "execution_count": 19,
      "outputs": [
        {
          "output_type": "execute_result",
          "data": {
            "text/plain": [
              "Index(['CITY', 'Cust Type', 'Customer No.', 'State', 'Gate Pass Time',\n",
              "       'Invoice No', 'Job Card No', 'KMs Reading', 'Labour Total', 'Make',\n",
              "       'Model', 'Order Type', 'Pin code', 'Plant', 'Print Status', 'Regn No',\n",
              "       'User ID', 'Business Partner', 'Partner Type', 'Data Origin', 'Title',\n",
              "       'Sales organization', 'Fuel Type', 'Invoice Date-Invoice Time',\n",
              "       'JobCard Date-JobCard Time', 'Year', 'Month', 'Job_duration(in days)',\n",
              "       'Total_Expense'],\n",
              "      dtype='object')"
            ]
          },
          "metadata": {
            "tags": []
          },
          "execution_count": 19
        }
      ]
    },
    {
      "cell_type": "code",
      "metadata": {
        "id": "hU0E1gZZ9Uop",
        "colab_type": "code",
        "outputId": "3bf3644a-5dbb-45df-b6a8-93b6dd3cdba6",
        "colab": {
          "base_uri": "https://localhost:8080/",
          "height": 616
        }
      },
      "source": [
        "master_df.describe(include='all')"
      ],
      "execution_count": 20,
      "outputs": [
        {
          "output_type": "execute_result",
          "data": {
            "text/html": [
              "<div>\n",
              "<style scoped>\n",
              "    .dataframe tbody tr th:only-of-type {\n",
              "        vertical-align: middle;\n",
              "    }\n",
              "\n",
              "    .dataframe tbody tr th {\n",
              "        vertical-align: top;\n",
              "    }\n",
              "\n",
              "    .dataframe thead th {\n",
              "        text-align: right;\n",
              "    }\n",
              "</style>\n",
              "<table border=\"1\" class=\"dataframe\">\n",
              "  <thead>\n",
              "    <tr style=\"text-align: right;\">\n",
              "      <th></th>\n",
              "      <th>CITY</th>\n",
              "      <th>Cust Type</th>\n",
              "      <th>Customer No.</th>\n",
              "      <th>State</th>\n",
              "      <th>Gate Pass Time</th>\n",
              "      <th>Invoice No</th>\n",
              "      <th>Job Card No</th>\n",
              "      <th>KMs Reading</th>\n",
              "      <th>Labour Total</th>\n",
              "      <th>Make</th>\n",
              "      <th>Model</th>\n",
              "      <th>Order Type</th>\n",
              "      <th>Pin code</th>\n",
              "      <th>Plant</th>\n",
              "      <th>Print Status</th>\n",
              "      <th>Regn No</th>\n",
              "      <th>User ID</th>\n",
              "      <th>Business Partner</th>\n",
              "      <th>Partner Type</th>\n",
              "      <th>Data Origin</th>\n",
              "      <th>Title</th>\n",
              "      <th>Sales organization</th>\n",
              "      <th>Fuel Type</th>\n",
              "      <th>Invoice Date-Invoice Time</th>\n",
              "      <th>JobCard Date-JobCard Time</th>\n",
              "      <th>Year</th>\n",
              "      <th>Month</th>\n",
              "      <th>Job_duration(in days)</th>\n",
              "      <th>Total_Expense</th>\n",
              "    </tr>\n",
              "  </thead>\n",
              "  <tbody>\n",
              "    <tr>\n",
              "      <th>count</th>\n",
              "      <td>980337</td>\n",
              "      <td>980337</td>\n",
              "      <td>980337</td>\n",
              "      <td>980337</td>\n",
              "      <td>980337</td>\n",
              "      <td>9.803370e+05</td>\n",
              "      <td>9.803370e+05</td>\n",
              "      <td>9.803370e+05</td>\n",
              "      <td>980337.000000</td>\n",
              "      <td>980337</td>\n",
              "      <td>980337</td>\n",
              "      <td>980337</td>\n",
              "      <td>980337.000000</td>\n",
              "      <td>980337</td>\n",
              "      <td>980337</td>\n",
              "      <td>980337</td>\n",
              "      <td>980337</td>\n",
              "      <td>980337</td>\n",
              "      <td>980337</td>\n",
              "      <td>980337</td>\n",
              "      <td>980337.000000</td>\n",
              "      <td>980337</td>\n",
              "      <td>980337.000000</td>\n",
              "      <td>980337</td>\n",
              "      <td>980337</td>\n",
              "      <td>980337.000000</td>\n",
              "      <td>980337.000000</td>\n",
              "      <td>980337.000000</td>\n",
              "      <td>9.803370e+05</td>\n",
              "    </tr>\n",
              "    <tr>\n",
              "      <th>unique</th>\n",
              "      <td>26884</td>\n",
              "      <td>5</td>\n",
              "      <td>501724</td>\n",
              "      <td>36</td>\n",
              "      <td>25420</td>\n",
              "      <td>NaN</td>\n",
              "      <td>NaN</td>\n",
              "      <td>NaN</td>\n",
              "      <td>NaN</td>\n",
              "      <td>28</td>\n",
              "      <td>255</td>\n",
              "      <td>9</td>\n",
              "      <td>NaN</td>\n",
              "      <td>431</td>\n",
              "      <td>2</td>\n",
              "      <td>514076</td>\n",
              "      <td>934</td>\n",
              "      <td>501724</td>\n",
              "      <td>7</td>\n",
              "      <td>22</td>\n",
              "      <td>NaN</td>\n",
              "      <td>5</td>\n",
              "      <td>NaN</td>\n",
              "      <td>957382</td>\n",
              "      <td>955102</td>\n",
              "      <td>NaN</td>\n",
              "      <td>NaN</td>\n",
              "      <td>NaN</td>\n",
              "      <td>NaN</td>\n",
              "    </tr>\n",
              "    <tr>\n",
              "      <th>top</th>\n",
              "      <td>chennai</td>\n",
              "      <td>retail</td>\n",
              "      <td>e4981</td>\n",
              "      <td>tamil nadu</td>\n",
              "      <td>00:00:00</td>\n",
              "      <td>NaN</td>\n",
              "      <td>NaN</td>\n",
              "      <td>NaN</td>\n",
              "      <td>NaN</td>\n",
              "      <td>maruti</td>\n",
              "      <td>swift</td>\n",
              "      <td>running repairs</td>\n",
              "      <td>NaN</td>\n",
              "      <td>bc03</td>\n",
              "      <td>no</td>\n",
              "      <td>mh04dn6210</td>\n",
              "      <td>bc03sa2</td>\n",
              "      <td>e4981</td>\n",
              "      <td>Retail</td>\n",
              "      <td>Ref-Customer</td>\n",
              "      <td>NaN</td>\n",
              "      <td>mfcd</td>\n",
              "      <td>NaN</td>\n",
              "      <td>2017-07-10 17:59:13</td>\n",
              "      <td>2017-01-30 13:06:11</td>\n",
              "      <td>NaN</td>\n",
              "      <td>NaN</td>\n",
              "      <td>NaN</td>\n",
              "      <td>NaN</td>\n",
              "    </tr>\n",
              "    <tr>\n",
              "      <th>freq</th>\n",
              "      <td>44243</td>\n",
              "      <td>978565</td>\n",
              "      <td>2871</td>\n",
              "      <td>190739</td>\n",
              "      <td>934842</td>\n",
              "      <td>NaN</td>\n",
              "      <td>NaN</td>\n",
              "      <td>NaN</td>\n",
              "      <td>NaN</td>\n",
              "      <td>307662</td>\n",
              "      <td>64801</td>\n",
              "      <td>551249</td>\n",
              "      <td>NaN</td>\n",
              "      <td>28772</td>\n",
              "      <td>934842</td>\n",
              "      <td>156</td>\n",
              "      <td>10042</td>\n",
              "      <td>2871</td>\n",
              "      <td>978647</td>\n",
              "      <td>248326</td>\n",
              "      <td>NaN</td>\n",
              "      <td>776305</td>\n",
              "      <td>NaN</td>\n",
              "      <td>9</td>\n",
              "      <td>6</td>\n",
              "      <td>NaN</td>\n",
              "      <td>NaN</td>\n",
              "      <td>NaN</td>\n",
              "      <td>NaN</td>\n",
              "    </tr>\n",
              "    <tr>\n",
              "      <th>first</th>\n",
              "      <td>NaN</td>\n",
              "      <td>NaN</td>\n",
              "      <td>NaN</td>\n",
              "      <td>NaN</td>\n",
              "      <td>NaN</td>\n",
              "      <td>NaN</td>\n",
              "      <td>NaN</td>\n",
              "      <td>NaN</td>\n",
              "      <td>NaN</td>\n",
              "      <td>NaN</td>\n",
              "      <td>NaN</td>\n",
              "      <td>NaN</td>\n",
              "      <td>NaN</td>\n",
              "      <td>NaN</td>\n",
              "      <td>NaN</td>\n",
              "      <td>NaN</td>\n",
              "      <td>NaN</td>\n",
              "      <td>NaN</td>\n",
              "      <td>NaN</td>\n",
              "      <td>NaN</td>\n",
              "      <td>NaN</td>\n",
              "      <td>NaN</td>\n",
              "      <td>NaN</td>\n",
              "      <td>2012-04-02 17:04:33</td>\n",
              "      <td>2012-04-01 16:14:12</td>\n",
              "      <td>NaN</td>\n",
              "      <td>NaN</td>\n",
              "      <td>NaN</td>\n",
              "      <td>NaN</td>\n",
              "    </tr>\n",
              "    <tr>\n",
              "      <th>last</th>\n",
              "      <td>NaN</td>\n",
              "      <td>NaN</td>\n",
              "      <td>NaN</td>\n",
              "      <td>NaN</td>\n",
              "      <td>NaN</td>\n",
              "      <td>NaN</td>\n",
              "      <td>NaN</td>\n",
              "      <td>NaN</td>\n",
              "      <td>NaN</td>\n",
              "      <td>NaN</td>\n",
              "      <td>NaN</td>\n",
              "      <td>NaN</td>\n",
              "      <td>NaN</td>\n",
              "      <td>NaN</td>\n",
              "      <td>NaN</td>\n",
              "      <td>NaN</td>\n",
              "      <td>NaN</td>\n",
              "      <td>NaN</td>\n",
              "      <td>NaN</td>\n",
              "      <td>NaN</td>\n",
              "      <td>NaN</td>\n",
              "      <td>NaN</td>\n",
              "      <td>NaN</td>\n",
              "      <td>2017-12-31 23:23:16</td>\n",
              "      <td>2017-12-31 23:16:21</td>\n",
              "      <td>NaN</td>\n",
              "      <td>NaN</td>\n",
              "      <td>NaN</td>\n",
              "      <td>NaN</td>\n",
              "    </tr>\n",
              "    <tr>\n",
              "      <th>mean</th>\n",
              "      <td>NaN</td>\n",
              "      <td>NaN</td>\n",
              "      <td>NaN</td>\n",
              "      <td>NaN</td>\n",
              "      <td>NaN</td>\n",
              "      <td>7.141164e+09</td>\n",
              "      <td>4.970652e+05</td>\n",
              "      <td>8.061865e+04</td>\n",
              "      <td>1409.061562</td>\n",
              "      <td>NaN</td>\n",
              "      <td>NaN</td>\n",
              "      <td>NaN</td>\n",
              "      <td>455107.190277</td>\n",
              "      <td>NaN</td>\n",
              "      <td>NaN</td>\n",
              "      <td>NaN</td>\n",
              "      <td>NaN</td>\n",
              "      <td>NaN</td>\n",
              "      <td>NaN</td>\n",
              "      <td>NaN</td>\n",
              "      <td>1.956703</td>\n",
              "      <td>NaN</td>\n",
              "      <td>1.673033</td>\n",
              "      <td>NaN</td>\n",
              "      <td>NaN</td>\n",
              "      <td>2015.868424</td>\n",
              "      <td>6.895457</td>\n",
              "      <td>4.103417</td>\n",
              "      <td>6.977018e+03</td>\n",
              "    </tr>\n",
              "    <tr>\n",
              "      <th>std</th>\n",
              "      <td>NaN</td>\n",
              "      <td>NaN</td>\n",
              "      <td>NaN</td>\n",
              "      <td>NaN</td>\n",
              "      <td>NaN</td>\n",
              "      <td>8.599424e+07</td>\n",
              "      <td>2.876287e+05</td>\n",
              "      <td>1.308598e+05</td>\n",
              "      <td>4302.668384</td>\n",
              "      <td>NaN</td>\n",
              "      <td>NaN</td>\n",
              "      <td>NaN</td>\n",
              "      <td>181421.186777</td>\n",
              "      <td>NaN</td>\n",
              "      <td>NaN</td>\n",
              "      <td>NaN</td>\n",
              "      <td>NaN</td>\n",
              "      <td>NaN</td>\n",
              "      <td>NaN</td>\n",
              "      <td>NaN</td>\n",
              "      <td>0.203526</td>\n",
              "      <td>NaN</td>\n",
              "      <td>0.564853</td>\n",
              "      <td>NaN</td>\n",
              "      <td>NaN</td>\n",
              "      <td>1.330076</td>\n",
              "      <td>3.404849</td>\n",
              "      <td>13.666484</td>\n",
              "      <td>1.968688e+04</td>\n",
              "    </tr>\n",
              "    <tr>\n",
              "      <th>min</th>\n",
              "      <td>NaN</td>\n",
              "      <td>NaN</td>\n",
              "      <td>NaN</td>\n",
              "      <td>NaN</td>\n",
              "      <td>NaN</td>\n",
              "      <td>7.000000e+09</td>\n",
              "      <td>4.000000e+00</td>\n",
              "      <td>1.000000e+00</td>\n",
              "      <td>-164.950000</td>\n",
              "      <td>NaN</td>\n",
              "      <td>NaN</td>\n",
              "      <td>NaN</td>\n",
              "      <td>0.000000</td>\n",
              "      <td>NaN</td>\n",
              "      <td>NaN</td>\n",
              "      <td>NaN</td>\n",
              "      <td>NaN</td>\n",
              "      <td>NaN</td>\n",
              "      <td>NaN</td>\n",
              "      <td>NaN</td>\n",
              "      <td>1.000000</td>\n",
              "      <td>NaN</td>\n",
              "      <td>1.000000</td>\n",
              "      <td>NaN</td>\n",
              "      <td>NaN</td>\n",
              "      <td>2012.000000</td>\n",
              "      <td>1.000000</td>\n",
              "      <td>-0.000382</td>\n",
              "      <td>-4.685400e+03</td>\n",
              "    </tr>\n",
              "    <tr>\n",
              "      <th>25%</th>\n",
              "      <td>NaN</td>\n",
              "      <td>NaN</td>\n",
              "      <td>NaN</td>\n",
              "      <td>NaN</td>\n",
              "      <td>NaN</td>\n",
              "      <td>7.034204e+09</td>\n",
              "      <td>2.488900e+05</td>\n",
              "      <td>3.520000e+04</td>\n",
              "      <td>0.010000</td>\n",
              "      <td>NaN</td>\n",
              "      <td>NaN</td>\n",
              "      <td>NaN</td>\n",
              "      <td>342001.000000</td>\n",
              "      <td>NaN</td>\n",
              "      <td>NaN</td>\n",
              "      <td>NaN</td>\n",
              "      <td>NaN</td>\n",
              "      <td>NaN</td>\n",
              "      <td>NaN</td>\n",
              "      <td>NaN</td>\n",
              "      <td>2.000000</td>\n",
              "      <td>NaN</td>\n",
              "      <td>1.000000</td>\n",
              "      <td>NaN</td>\n",
              "      <td>NaN</td>\n",
              "      <td>2015.000000</td>\n",
              "      <td>4.000000</td>\n",
              "      <td>0.081725</td>\n",
              "      <td>2.999200e+02</td>\n",
              "    </tr>\n",
              "    <tr>\n",
              "      <th>50%</th>\n",
              "      <td>NaN</td>\n",
              "      <td>NaN</td>\n",
              "      <td>NaN</td>\n",
              "      <td>NaN</td>\n",
              "      <td>NaN</td>\n",
              "      <td>7.166801e+09</td>\n",
              "      <td>4.954970e+05</td>\n",
              "      <td>6.211300e+04</td>\n",
              "      <td>399.990000</td>\n",
              "      <td>NaN</td>\n",
              "      <td>NaN</td>\n",
              "      <td>NaN</td>\n",
              "      <td>452001.000000</td>\n",
              "      <td>NaN</td>\n",
              "      <td>NaN</td>\n",
              "      <td>NaN</td>\n",
              "      <td>NaN</td>\n",
              "      <td>NaN</td>\n",
              "      <td>NaN</td>\n",
              "      <td>NaN</td>\n",
              "      <td>2.000000</td>\n",
              "      <td>NaN</td>\n",
              "      <td>2.000000</td>\n",
              "      <td>NaN</td>\n",
              "      <td>NaN</td>\n",
              "      <td>2016.000000</td>\n",
              "      <td>7.000000</td>\n",
              "      <td>0.313958</td>\n",
              "      <td>1.871270e+03</td>\n",
              "    </tr>\n",
              "    <tr>\n",
              "      <th>75%</th>\n",
              "      <td>NaN</td>\n",
              "      <td>NaN</td>\n",
              "      <td>NaN</td>\n",
              "      <td>NaN</td>\n",
              "      <td>NaN</td>\n",
              "      <td>7.200201e+09</td>\n",
              "      <td>7.453560e+05</td>\n",
              "      <td>9.718500e+04</td>\n",
              "      <td>1234.700000</td>\n",
              "      <td>NaN</td>\n",
              "      <td>NaN</td>\n",
              "      <td>NaN</td>\n",
              "      <td>600053.000000</td>\n",
              "      <td>NaN</td>\n",
              "      <td>NaN</td>\n",
              "      <td>NaN</td>\n",
              "      <td>NaN</td>\n",
              "      <td>NaN</td>\n",
              "      <td>NaN</td>\n",
              "      <td>NaN</td>\n",
              "      <td>2.000000</td>\n",
              "      <td>NaN</td>\n",
              "      <td>2.000000</td>\n",
              "      <td>NaN</td>\n",
              "      <td>NaN</td>\n",
              "      <td>2017.000000</td>\n",
              "      <td>10.000000</td>\n",
              "      <td>2.859549</td>\n",
              "      <td>6.715410e+03</td>\n",
              "    </tr>\n",
              "    <tr>\n",
              "      <th>max</th>\n",
              "      <td>NaN</td>\n",
              "      <td>NaN</td>\n",
              "      <td>NaN</td>\n",
              "      <td>NaN</td>\n",
              "      <td>NaN</td>\n",
              "      <td>7.309000e+09</td>\n",
              "      <td>1.001292e+06</td>\n",
              "      <td>9.999999e+06</td>\n",
              "      <td>434000.000000</td>\n",
              "      <td>NaN</td>\n",
              "      <td>NaN</td>\n",
              "      <td>NaN</td>\n",
              "      <td>999999.000000</td>\n",
              "      <td>NaN</td>\n",
              "      <td>NaN</td>\n",
              "      <td>NaN</td>\n",
              "      <td>NaN</td>\n",
              "      <td>NaN</td>\n",
              "      <td>NaN</td>\n",
              "      <td>NaN</td>\n",
              "      <td>2.000000</td>\n",
              "      <td>NaN</td>\n",
              "      <td>5.000000</td>\n",
              "      <td>NaN</td>\n",
              "      <td>NaN</td>\n",
              "      <td>2017.000000</td>\n",
              "      <td>12.000000</td>\n",
              "      <td>1112.138333</td>\n",
              "      <td>1.360592e+06</td>\n",
              "    </tr>\n",
              "  </tbody>\n",
              "</table>\n",
              "</div>"
            ],
            "text/plain": [
              "           CITY Cust Type  ... Job_duration(in days) Total_Expense\n",
              "count    980337    980337  ...         980337.000000  9.803370e+05\n",
              "unique    26884         5  ...                   NaN           NaN\n",
              "top     chennai    retail  ...                   NaN           NaN\n",
              "freq      44243    978565  ...                   NaN           NaN\n",
              "first       NaN       NaN  ...                   NaN           NaN\n",
              "last        NaN       NaN  ...                   NaN           NaN\n",
              "mean        NaN       NaN  ...              4.103417  6.977018e+03\n",
              "std         NaN       NaN  ...             13.666484  1.968688e+04\n",
              "min         NaN       NaN  ...             -0.000382 -4.685400e+03\n",
              "25%         NaN       NaN  ...              0.081725  2.999200e+02\n",
              "50%         NaN       NaN  ...              0.313958  1.871270e+03\n",
              "75%         NaN       NaN  ...              2.859549  6.715410e+03\n",
              "max         NaN       NaN  ...           1112.138333  1.360592e+06\n",
              "\n",
              "[13 rows x 29 columns]"
            ]
          },
          "metadata": {
            "tags": []
          },
          "execution_count": 20
        }
      ]
    },
    {
      "cell_type": "code",
      "metadata": {
        "id": "3IPu2hub98lX",
        "colab_type": "code",
        "outputId": "793c7219-9af0-4a7b-890f-323361338723",
        "colab": {
          "base_uri": "https://localhost:8080/",
          "height": 655
        }
      },
      "source": [
        "master_df[['CITY']].sample(20)"
      ],
      "execution_count": 21,
      "outputs": [
        {
          "output_type": "execute_result",
          "data": {
            "text/html": [
              "<div>\n",
              "<style scoped>\n",
              "    .dataframe tbody tr th:only-of-type {\n",
              "        vertical-align: middle;\n",
              "    }\n",
              "\n",
              "    .dataframe tbody tr th {\n",
              "        vertical-align: top;\n",
              "    }\n",
              "\n",
              "    .dataframe thead th {\n",
              "        text-align: right;\n",
              "    }\n",
              "</style>\n",
              "<table border=\"1\" class=\"dataframe\">\n",
              "  <thead>\n",
              "    <tr style=\"text-align: right;\">\n",
              "      <th></th>\n",
              "      <th>CITY</th>\n",
              "    </tr>\n",
              "  </thead>\n",
              "  <tbody>\n",
              "    <tr>\n",
              "      <th>212418</th>\n",
              "      <td>udaipur</td>\n",
              "    </tr>\n",
              "    <tr>\n",
              "      <th>37419</th>\n",
              "      <td>noida</td>\n",
              "    </tr>\n",
              "    <tr>\n",
              "      <th>539126</th>\n",
              "      <td>kgf</td>\n",
              "    </tr>\n",
              "    <tr>\n",
              "      <th>417740</th>\n",
              "      <td>firozabad</td>\n",
              "    </tr>\n",
              "    <tr>\n",
              "      <th>142538</th>\n",
              "      <td>pune</td>\n",
              "    </tr>\n",
              "    <tr>\n",
              "      <th>958402</th>\n",
              "      <td>chennai</td>\n",
              "    </tr>\n",
              "    <tr>\n",
              "      <th>118170</th>\n",
              "      <td>kakinada</td>\n",
              "    </tr>\n",
              "    <tr>\n",
              "      <th>869281</th>\n",
              "      <td>gr noida</td>\n",
              "    </tr>\n",
              "    <tr>\n",
              "      <th>869028</th>\n",
              "      <td>gr noida</td>\n",
              "    </tr>\n",
              "    <tr>\n",
              "      <th>274295</th>\n",
              "      <td>nasik</td>\n",
              "    </tr>\n",
              "    <tr>\n",
              "      <th>595847</th>\n",
              "      <td>seethanagaram</td>\n",
              "    </tr>\n",
              "    <tr>\n",
              "      <th>126730</th>\n",
              "      <td>jaipur</td>\n",
              "    </tr>\n",
              "    <tr>\n",
              "      <th>245381</th>\n",
              "      <td>belgaum</td>\n",
              "    </tr>\n",
              "    <tr>\n",
              "      <th>931468</th>\n",
              "      <td>bangalore</td>\n",
              "    </tr>\n",
              "    <tr>\n",
              "      <th>427630</th>\n",
              "      <td>shirur</td>\n",
              "    </tr>\n",
              "    <tr>\n",
              "      <th>320175</th>\n",
              "      <td>manalupet</td>\n",
              "    </tr>\n",
              "    <tr>\n",
              "      <th>530353</th>\n",
              "      <td>atp</td>\n",
              "    </tr>\n",
              "    <tr>\n",
              "      <th>442642</th>\n",
              "      <td>satana</td>\n",
              "    </tr>\n",
              "    <tr>\n",
              "      <th>555044</th>\n",
              "      <td>bhinmal</td>\n",
              "    </tr>\n",
              "    <tr>\n",
              "      <th>896665</th>\n",
              "      <td>sector 41-42, fbd</td>\n",
              "    </tr>\n",
              "  </tbody>\n",
              "</table>\n",
              "</div>"
            ],
            "text/plain": [
              "                     CITY\n",
              "212418            udaipur\n",
              "37419               noida\n",
              "539126                kgf\n",
              "417740          firozabad\n",
              "142538               pune\n",
              "958402            chennai\n",
              "118170           kakinada\n",
              "869281           gr noida\n",
              "869028           gr noida\n",
              "274295              nasik\n",
              "595847      seethanagaram\n",
              "126730             jaipur\n",
              "245381            belgaum\n",
              "931468          bangalore\n",
              "427630             shirur\n",
              "320175          manalupet\n",
              "530353                atp\n",
              "442642             satana\n",
              "555044            bhinmal\n",
              "896665  sector 41-42, fbd"
            ]
          },
          "metadata": {
            "tags": []
          },
          "execution_count": 21
        }
      ]
    },
    {
      "cell_type": "code",
      "metadata": {
        "id": "Irj6rlFfjsto",
        "colab_type": "code",
        "outputId": "85958bdd-fbf1-4bc4-d20b-157061bae29d",
        "colab": {
          "base_uri": "https://localhost:8080/",
          "height": 301
        }
      },
      "source": [
        "# Function to identify numeric features\n",
        "def numeric_features(dataset):\n",
        "    numeric_col = dataset.select_dtypes(include=['number']).columns\n",
        "    return numeric_col\n",
        "\n",
        "numeric_columns_master_df = numeric_features(master_df)\n",
        "print(\"Numeric Features for master_df:\")\n",
        "print(numeric_columns_master_df)\n",
        "\n",
        "numeric_columns_jtd_df = numeric_features(jtd_df)\n",
        "print(\"Numeric Features for jtd_df:\")\n",
        "print(numeric_columns_jtd_df)\n",
        "\n",
        "print(\"====\"*30)\n",
        "\n",
        "# Function to identify categorical features\n",
        "def categorical_features(dataset):\n",
        "    categorical_col = dataset.select_dtypes(exclude=['number']).columns\n",
        "    return categorical_col\n",
        "\n",
        "categorical_columns_master_df = categorical_features(master_df)\n",
        "print(\"Categorical Features for master_df:\")\n",
        "print(categorical_columns_master_df)\n",
        "\n",
        "categorical_columns_jtd_df = categorical_features(jtd_df)\n",
        "print(\"categorical Features for jtd_df:\")\n",
        "print(categorical_columns_jtd_df)"
      ],
      "execution_count": 22,
      "outputs": [
        {
          "output_type": "stream",
          "text": [
            "Numeric Features for master_df:\n",
            "Index(['Invoice No', 'Job Card No', 'KMs Reading', 'Labour Total', 'Pin code',\n",
            "       'Title', 'Fuel Type', 'Year', 'Month', 'Job_duration(in days)',\n",
            "       'Total_Expense'],\n",
            "      dtype='object')\n",
            "Numeric Features for jtd_df:\n",
            "Index(['DBM Order', 'Order Item', 'Order Quantity', 'Net value'], dtype='object')\n",
            "========================================================================================================================\n",
            "Categorical Features for master_df:\n",
            "Index(['CITY', 'Cust Type', 'Customer No.', 'State', 'Gate Pass Time', 'Make',\n",
            "       'Model', 'Order Type', 'Plant', 'Print Status', 'Regn No', 'User ID',\n",
            "       'Business Partner', 'Partner Type', 'Data Origin', 'Sales organization',\n",
            "       'Invoice Date-Invoice Time', 'JobCard Date-JobCard Time'],\n",
            "      dtype='object')\n",
            "categorical Features for jtd_df:\n",
            "Index(['Material', 'Description', 'Item Category', 'Target quantity UoM'], dtype='object')\n"
          ],
          "name": "stdout"
        }
      ]
    },
    {
      "cell_type": "markdown",
      "metadata": {
        "id": "R_N_I3Ye381D",
        "colab_type": "text"
      },
      "source": [
        "# **Univariate Analysis**"
      ]
    },
    {
      "cell_type": "code",
      "metadata": {
        "id": "xUhyAM7vGK7o",
        "colab_type": "code",
        "outputId": "0e10d02a-2ec4-43a2-c748-203f99b2601d",
        "colab": {
          "base_uri": "https://localhost:8080/",
          "height": 405
        }
      },
      "source": [
        "def plot_vc(dataset,col,title):\n",
        "  plt.style.use('seaborn')\n",
        "  x=dataset[col].value_counts()\n",
        "  x=x.reset_index()\n",
        "  x[col]=100*x[col]/sum(x[col])\n",
        "  x=x.sort_values(col)\n",
        "  x=x[x[col]>1]\n",
        "  plt.barh(x['index'],x[col])\n",
        "  plt.title(title)\n",
        "  plt.xlabel('Percentage')\n",
        "  plt.tight_layout()\n",
        "  plt.show()\n",
        "  \n",
        "# plot_vc(master_df,'Data Origin','how customers know abt MFCS')\n",
        "plot_vc(master_df,'Make','Make wise distribution')\n",
        "# plot_vc(master_df,'State','State wise distribution')\n",
        "# plot_vc(master_df[master_df['State'] == 'maharashtra'],'CITY','Citywise distribution in maharashtra')\n",
        "# plot_vc(master_df[master_df['State'] == 'tamil nadu'],'CITY','Citywise distribution in TN')\n",
        "# plot_vc(master_df,'Order Type','Order type distribution')\n",
        "# plot_vc(master_df[master_df['State'] == 'maharashtra'],'Plant Name1','plant wise distribution in maharashtra')"
      ],
      "execution_count": 23,
      "outputs": [
        {
          "output_type": "display_data",
          "data": {
            "image/png": "[encoded data removed]",
            "text/plain": [
              "<Figure size 576x396 with 1 Axes>"
            ]
          },
          "metadata": {
            "tags": []
          }
        }
      ]
    },
    {
      "cell_type": "code",
      "metadata": {
        "id": "17M3xM8EZNzU",
        "colab_type": "code",
        "outputId": "b2fe3667-9aca-465c-97f9-e973fa864930",
        "colab": {
          "base_uri": "https://localhost:8080/",
          "height": 108
        }
      },
      "source": [
        "print(\"columns from invoice_df: \",set(master_df.columns) & set(invoice_df.columns))\n",
        "print(\"columns from customer_df: \",set(master_df.columns) & set(customer_df.columns))\n",
        "print(\"columns from plant_df: \",set(master_df.columns) & set(plant_df.columns))\n",
        "print(\"columns from vehicles_df: \",set(master_df.columns) & set(vehicles_df.columns))"
      ],
      "execution_count": 24,
      "outputs": [
        {
          "output_type": "stream",
          "text": [
            "columns from invoice_df:  {'Cust Type', 'Print Status', 'Customer No.', 'Model', 'Job Card No', 'Pin code', 'KMs Reading', 'CITY', 'Make', 'Invoice No', 'User ID', 'Order Type', 'Gate Pass Time', 'State', 'Plant', 'Regn No', 'Labour Total'}\n",
            "columns from customer_df:  {'Data Origin', 'Title', 'Partner Type', 'Customer No.', 'Business Partner'}\n",
            "columns from plant_df:  {'Plant', 'Sales organization', 'State'}\n",
            "columns from vehicles_df:  {'Regn No', 'Make', 'Fuel Type'}\n"
          ],
          "name": "stdout"
        }
      ]
    },
    {
      "cell_type": "code",
      "metadata": {
        "id": "-jCVAZjDc6Ih",
        "colab_type": "code",
        "outputId": "4144e063-4f3c-4de1-fedf-b915a4208a37",
        "colab": {
          "base_uri": "https://localhost:8080/",
          "height": 765
        }
      },
      "source": [
        "df_counts = master_df.groupby(['Fuel Type', 'Total_Expense']).size().reset_index(name='counts')\n",
        "print(df_counts.sample(3))\n",
        "# Draw Stripplot\n",
        "fig, ax = plt.subplots(figsize=(16,10), dpi= 80)    \n",
        "sns.stripplot(df_counts['Fuel Type'], df_counts.Total_Expense, size=df_counts.counts*2, ax=ax)\n",
        "\n",
        "# Decorations\n",
        "plt.title('Counts Plot - Size of circle is bigger as more points overlap', fontsize=22)\n",
        "plt.show()"
      ],
      "execution_count": 25,
      "outputs": [
        {
          "output_type": "stream",
          "text": [
            "        Fuel Type  Total_Expense  counts\n",
            "388504          2        6901.28       1\n",
            "89676           1        3524.05       1\n",
            "502303          2       26235.15       1\n"
          ],
          "name": "stdout"
        },
        {
          "output_type": "display_data",
          "data": {
            "image/png": "[encoded data removed]",
            "text/plain": [
              "<Figure size 1280x800 with 1 Axes>"
            ]
          },
          "metadata": {
            "tags": []
          }
        }
      ]
    },
    {
      "cell_type": "code",
      "metadata": {
        "id": "sB5aoOhXhM8h",
        "colab_type": "code",
        "outputId": "e4cc9d05-e3c6-47ba-ba23-b991686b7d27",
        "colab": {
          "base_uri": "https://localhost:8080/",
          "height": 124
        }
      },
      "source": [
        "master_df['Make'].unique()"
      ],
      "execution_count": 26,
      "outputs": [
        {
          "output_type": "execute_result",
          "data": {
            "text/plain": [
              "array(['hyundai', 'mahindra', 'tata', 'maruti', 'toyota',\n",
              "       'general motors', 'skoda', 'ford', 'honda', 'fiat', 'volkswagen',\n",
              "       'mitsubishi motor', 'hindustan motors', 'audi', 'nissan', 'daewoo',\n",
              "       'mercedes-benz', 'bmw', 'renault', 'volvo', 'force', 'rover',\n",
              "       'sonalika', 'premierauto', 'jeep', 'porsche', 'san motors',\n",
              "       'morris'], dtype=object)"
            ]
          },
          "metadata": {
            "tags": []
          },
          "execution_count": 26
        }
      ]
    },
    {
      "cell_type": "code",
      "metadata": {
        "id": "6s4IYZfOSJaU",
        "colab_type": "code",
        "colab": {}
      },
      "source": [
        "# # Prepare data\n",
        "# x_var = 'Fuel Type'\n",
        "# groupby_var = 'Total_Expense'\n",
        "# df_agg = master_df.loc[:, [x_var, groupby_var]].groupby(groupby_var)\n",
        "# vals = [master_df[x_var].values.tolist() for i, df in df_agg]\n",
        "\n",
        "# # Draw\n",
        "# plt.figure(figsize=(16,9), dpi= 80)\n",
        "# colors = [plt.cm.Spectral(i/float(len(vals)-1)) for i in range(len(vals))]\n",
        "# n, bins, patches = plt.hist(vals, master_df[x_var].unique().__len__(), stacked=True, density=False, color=colors[:len(vals)])\n",
        "\n",
        "# # Decoration\n",
        "# plt.legend({group:col for group, col in zip(np.unique(master_df[groupby_var]).tolist(), colors[:len(vals)])})\n",
        "# plt.title(f\"Stacked Histogram of ${x_var}$ colored by ${groupby_var}$\", fontsize=22)\n",
        "# plt.xlabel(x_var)\n",
        "# plt.ylabel(\"Frequency\")\n",
        "# plt.ylim(0, 40)\n",
        "# plt.xticks(ticks=bins, labels=np.unique(master_df[x_var]).tolist(), rotation=90, horizontalalignment='left')\n",
        "# plt.show()"
      ],
      "execution_count": 0,
      "outputs": []
    },
    {
      "cell_type": "code",
      "metadata": {
        "id": "_K8QN8w0oFBI",
        "colab_type": "code",
        "outputId": "0cfcb491-3ca0-4c17-dc84-bc02146e783e",
        "colab": {
          "base_uri": "https://localhost:8080/",
          "height": 369
        }
      },
      "source": [
        "sns.catplot(y=\"Total_Expense\", x=\"Make\", data=master_df);"
      ],
      "execution_count": 28,
      "outputs": [
        {
          "output_type": "display_data",
          "data": {
            "image/png": "[encoded data removed]",
            "text/plain": [
              "<Figure size 360x360 with 1 Axes>"
            ]
          },
          "metadata": {
            "tags": []
          }
        }
      ]
    },
    {
      "cell_type": "code",
      "metadata": {
        "id": "KivT3IG8ORK5",
        "colab_type": "code",
        "outputId": "d9b817af-a045-4fe3-c6f7-d5e8e4f7ff14",
        "colab": {
          "base_uri": "https://localhost:8080/",
          "height": 159
        }
      },
      "source": [
        "master_df.columns"
      ],
      "execution_count": 29,
      "outputs": [
        {
          "output_type": "execute_result",
          "data": {
            "text/plain": [
              "Index(['CITY', 'Cust Type', 'Customer No.', 'State', 'Gate Pass Time',\n",
              "       'Invoice No', 'Job Card No', 'KMs Reading', 'Labour Total', 'Make',\n",
              "       'Model', 'Order Type', 'Pin code', 'Plant', 'Print Status', 'Regn No',\n",
              "       'User ID', 'Business Partner', 'Partner Type', 'Data Origin', 'Title',\n",
              "       'Sales organization', 'Fuel Type', 'Invoice Date-Invoice Time',\n",
              "       'JobCard Date-JobCard Time', 'Year', 'Month', 'Job_duration(in days)',\n",
              "       'Total_Expense'],\n",
              "      dtype='object')"
            ]
          },
          "metadata": {
            "tags": []
          },
          "execution_count": 29
        }
      ]
    },
    {
      "cell_type": "code",
      "metadata": {
        "id": "czc0LWIQzXOg",
        "colab_type": "code",
        "outputId": "fdc60617-8cc7-4af0-d3d0-f24119ad4a56",
        "colab": {
          "base_uri": "https://localhost:8080/",
          "height": 404
        }
      },
      "source": [
        "master_df[categorical_columns_master_df].describe()"
      ],
      "execution_count": 30,
      "outputs": [
        {
          "output_type": "execute_result",
          "data": {
            "text/html": [
              "<div>\n",
              "<style scoped>\n",
              "    .dataframe tbody tr th:only-of-type {\n",
              "        vertical-align: middle;\n",
              "    }\n",
              "\n",
              "    .dataframe tbody tr th {\n",
              "        vertical-align: top;\n",
              "    }\n",
              "\n",
              "    .dataframe thead th {\n",
              "        text-align: right;\n",
              "    }\n",
              "</style>\n",
              "<table border=\"1\" class=\"dataframe\">\n",
              "  <thead>\n",
              "    <tr style=\"text-align: right;\">\n",
              "      <th></th>\n",
              "      <th>CITY</th>\n",
              "      <th>Cust Type</th>\n",
              "      <th>Customer No.</th>\n",
              "      <th>State</th>\n",
              "      <th>Gate Pass Time</th>\n",
              "      <th>Make</th>\n",
              "      <th>Model</th>\n",
              "      <th>Order Type</th>\n",
              "      <th>Plant</th>\n",
              "      <th>Print Status</th>\n",
              "      <th>Regn No</th>\n",
              "      <th>User ID</th>\n",
              "      <th>Business Partner</th>\n",
              "      <th>Partner Type</th>\n",
              "      <th>Data Origin</th>\n",
              "      <th>Sales organization</th>\n",
              "      <th>Invoice Date-Invoice Time</th>\n",
              "      <th>JobCard Date-JobCard Time</th>\n",
              "    </tr>\n",
              "  </thead>\n",
              "  <tbody>\n",
              "    <tr>\n",
              "      <th>count</th>\n",
              "      <td>980337</td>\n",
              "      <td>980337</td>\n",
              "      <td>980337</td>\n",
              "      <td>980337</td>\n",
              "      <td>980337</td>\n",
              "      <td>980337</td>\n",
              "      <td>980337</td>\n",
              "      <td>980337</td>\n",
              "      <td>980337</td>\n",
              "      <td>980337</td>\n",
              "      <td>980337</td>\n",
              "      <td>980337</td>\n",
              "      <td>980337</td>\n",
              "      <td>980337</td>\n",
              "      <td>980337</td>\n",
              "      <td>980337</td>\n",
              "      <td>980337</td>\n",
              "      <td>980337</td>\n",
              "    </tr>\n",
              "    <tr>\n",
              "      <th>unique</th>\n",
              "      <td>26884</td>\n",
              "      <td>5</td>\n",
              "      <td>501724</td>\n",
              "      <td>36</td>\n",
              "      <td>25420</td>\n",
              "      <td>28</td>\n",
              "      <td>255</td>\n",
              "      <td>9</td>\n",
              "      <td>431</td>\n",
              "      <td>2</td>\n",
              "      <td>514076</td>\n",
              "      <td>934</td>\n",
              "      <td>501724</td>\n",
              "      <td>7</td>\n",
              "      <td>22</td>\n",
              "      <td>5</td>\n",
              "      <td>957382</td>\n",
              "      <td>955102</td>\n",
              "    </tr>\n",
              "    <tr>\n",
              "      <th>top</th>\n",
              "      <td>chennai</td>\n",
              "      <td>retail</td>\n",
              "      <td>e4981</td>\n",
              "      <td>tamil nadu</td>\n",
              "      <td>00:00:00</td>\n",
              "      <td>maruti</td>\n",
              "      <td>swift</td>\n",
              "      <td>running repairs</td>\n",
              "      <td>bc03</td>\n",
              "      <td>no</td>\n",
              "      <td>mh04dn6210</td>\n",
              "      <td>bc03sa2</td>\n",
              "      <td>e4981</td>\n",
              "      <td>Retail</td>\n",
              "      <td>Ref-Customer</td>\n",
              "      <td>mfcd</td>\n",
              "      <td>2017-07-10 17:59:13</td>\n",
              "      <td>2017-01-30 13:06:11</td>\n",
              "    </tr>\n",
              "    <tr>\n",
              "      <th>freq</th>\n",
              "      <td>44243</td>\n",
              "      <td>978565</td>\n",
              "      <td>2871</td>\n",
              "      <td>190739</td>\n",
              "      <td>934842</td>\n",
              "      <td>307662</td>\n",
              "      <td>64801</td>\n",
              "      <td>551249</td>\n",
              "      <td>28772</td>\n",
              "      <td>934842</td>\n",
              "      <td>156</td>\n",
              "      <td>10042</td>\n",
              "      <td>2871</td>\n",
              "      <td>978647</td>\n",
              "      <td>248326</td>\n",
              "      <td>776305</td>\n",
              "      <td>9</td>\n",
              "      <td>6</td>\n",
              "    </tr>\n",
              "    <tr>\n",
              "      <th>first</th>\n",
              "      <td>NaN</td>\n",
              "      <td>NaN</td>\n",
              "      <td>NaN</td>\n",
              "      <td>NaN</td>\n",
              "      <td>NaN</td>\n",
              "      <td>NaN</td>\n",
              "      <td>NaN</td>\n",
              "      <td>NaN</td>\n",
              "      <td>NaN</td>\n",
              "      <td>NaN</td>\n",
              "      <td>NaN</td>\n",
              "      <td>NaN</td>\n",
              "      <td>NaN</td>\n",
              "      <td>NaN</td>\n",
              "      <td>NaN</td>\n",
              "      <td>NaN</td>\n",
              "      <td>2012-04-02 17:04:33</td>\n",
              "      <td>2012-04-01 16:14:12</td>\n",
              "    </tr>\n",
              "    <tr>\n",
              "      <th>last</th>\n",
              "      <td>NaN</td>\n",
              "      <td>NaN</td>\n",
              "      <td>NaN</td>\n",
              "      <td>NaN</td>\n",
              "      <td>NaN</td>\n",
              "      <td>NaN</td>\n",
              "      <td>NaN</td>\n",
              "      <td>NaN</td>\n",
              "      <td>NaN</td>\n",
              "      <td>NaN</td>\n",
              "      <td>NaN</td>\n",
              "      <td>NaN</td>\n",
              "      <td>NaN</td>\n",
              "      <td>NaN</td>\n",
              "      <td>NaN</td>\n",
              "      <td>NaN</td>\n",
              "      <td>2017-12-31 23:23:16</td>\n",
              "      <td>2017-12-31 23:16:21</td>\n",
              "    </tr>\n",
              "  </tbody>\n",
              "</table>\n",
              "</div>"
            ],
            "text/plain": [
              "           CITY Cust Type  ... Invoice Date-Invoice Time JobCard Date-JobCard Time\n",
              "count    980337    980337  ...                    980337                    980337\n",
              "unique    26884         5  ...                    957382                    955102\n",
              "top     chennai    retail  ...       2017-07-10 17:59:13       2017-01-30 13:06:11\n",
              "freq      44243    978565  ...                         9                         6\n",
              "first       NaN       NaN  ...       2012-04-02 17:04:33       2012-04-01 16:14:12\n",
              "last        NaN       NaN  ...       2017-12-31 23:23:16       2017-12-31 23:16:21\n",
              "\n",
              "[6 rows x 18 columns]"
            ]
          },
          "metadata": {
            "tags": []
          },
          "execution_count": 30
        }
      ]
    },
    {
      "cell_type": "code",
      "metadata": {
        "id": "l5wqg3wzc7Ev",
        "colab_type": "code",
        "outputId": "377d03d9-bf0e-4b18-b4f7-2775d94727ce",
        "colab": {
          "base_uri": "https://localhost:8080/",
          "height": 376
        }
      },
      "source": [
        "def scatter_plot(df,x,y):\n",
        "  plt.style.use('seaborn')\n",
        "  plt.scatter(df[x],df[y])\n",
        "  #cbar=plt.colorbar()\n",
        "  #cbar.set_label('Price variation')\n",
        "  plt.xlabel(x)\n",
        "  plt.ylabel(y)\n",
        "  plt.title('{} vs {}'.format(x,y))\n",
        "  plt.show()\n",
        "\n",
        "scatter_plot(master_df,'Total_Expense','KMs Reading')"
      ],
      "execution_count": 31,
      "outputs": [
        {
          "output_type": "display_data",
          "data": {
            "image/png": "[encoded data removed]",
            "text/plain": [
              "<Figure size 576x396 with 1 Axes>"
            ]
          },
          "metadata": {
            "tags": []
          }
        }
      ]
    },
    {
      "cell_type": "code",
      "metadata": {
        "id": "MBOnrQh2N3ap",
        "colab_type": "code",
        "colab": {
          "base_uri": "https://localhost:8080/",
          "height": 450
        },
        "outputId": "19370a3f-fc61-4a12-ea30-762ba8827475"
      },
      "source": [
        "def plot_groupby(df,col1,col2):\n",
        "  gp=df.groupby(col1)[col2].sum()\n",
        "  gp=100*gp/sum(gp)\n",
        "  gp=gp[gp>1]\n",
        "  print(gp.index)\n",
        "  gp.sort_values().plot(kind='barh')\n",
        "  plt.style.use('fivethirtyeight')\n",
        "  plt.title('{}wise Total {} percentage'.format(col1,col2))\n",
        "  plt.xlabel('Percentage')\n",
        "  plt.tight_layout()\n",
        "\n",
        "plot_groupby(master_df,'Make','Total_Expense')"
      ],
      "execution_count": 32,
      "outputs": [
        {
          "output_type": "stream",
          "text": [
            "Index(['fiat', 'ford', 'general motors', 'honda', 'hyundai', 'mahindra',\n",
            "       'maruti', 'renault', 'skoda', 'tata', 'toyota', 'volkswagen'],\n",
            "      dtype='object', name='Make')\n"
          ],
          "name": "stdout"
        },
        {
          "output_type": "display_data",
          "data": {
            "image/png": "[encoded data removed]",
            "text/plain": [
              "<Figure size 576x396 with 1 Axes>"
            ]
          },
          "metadata": {
            "tags": []
          }
        }
      ]
    },
    {
      "cell_type": "code",
      "metadata": {
        "id": "fW983YxWOBjv",
        "colab_type": "code",
        "colab": {}
      },
      "source": [
        "master_df1 = master_df"
      ],
      "execution_count": 0,
      "outputs": []
    },
    {
      "cell_type": "code",
      "metadata": {
        "id": "uLHHXWLl0RBP",
        "colab_type": "code",
        "colab": {}
      },
      "source": [
        "not_corrected =[]\n",
        "digits = []\n",
        "\n",
        "def spellcorrect(string):\n",
        "      spell = SpellChecker()\n",
        "      spell.word_frequency.load_words(['chennai', 'bangalore'])\n",
        "      if (string.isdigit()):\n",
        "          digits.append(string)\n",
        "      elif (len(string.split())<=2) :\n",
        "          if (len(spell.candidates(string))==1):\n",
        "              string = spell.correction(string)\n",
        "      else:\n",
        "          not_corrected.append(string)\n",
        "      return string\n",
        "          \n",
        "def typo_check(dataset,col): \n",
        "    dataset[col] = dataset[col].apply(spellcorrect)\n",
        "    return dataset\n",
        "  \n",
        "master_df1 = typo_check(master_df1, 'CITY')\n",
        "\n",
        "not_corrected"
      ],
      "execution_count": 0,
      "outputs": []
    },
    {
      "cell_type": "code",
      "metadata": {
        "id": "iZBZJKwgwPvG",
        "colab_type": "code",
        "colab": {}
      },
      "source": [
        "\n",
        "\n",
        "# master_df.to_csv('master.csv', index=False)\n",
        "# files.download('master.csv')"
      ],
      "execution_count": 0,
      "outputs": []
    },
    {
      "cell_type": "code",
      "metadata": {
        "id": "bsPaT_ewBkhp",
        "colab_type": "code",
        "colab": {}
      },
      "source": [
        ""
      ],
      "execution_count": 0,
      "outputs": []
    }
  ]
}